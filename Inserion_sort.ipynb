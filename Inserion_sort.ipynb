{
  "nbformat": 4,
  "nbformat_minor": 0,
  "metadata": {
    "colab": {
      "name": "Inserion sort.ipynb",
      "provenance": [],
      "collapsed_sections": [],
      "authorship_tag": "ABX9TyO0Kg1WwhLzp/ooeEOLUsRC"
    },
    "kernelspec": {
      "name": "python3",
      "display_name": "Python 3"
    },
    "language_info": {
      "name": "python"
    }
  },
  "cells": [
    {
      "cell_type": "code",
      "execution_count": null,
      "metadata": {
        "id": "EfzNDHU_JeJv"
      },
      "outputs": [],
      "source": [
        "#### Doing insertion sort\n",
        "\n",
        "def insertion(arr):\n",
        "\n",
        "    for i in range(len(arr)):\n",
        "\n",
        "\n",
        "        for j in range(i,0,-1):\n",
        "\n",
        "            if arr[j-1] > arr[j]:\n",
        "                arr[j-1], arr[j] = arr[j], arr[j-1]\n",
        "            else:\n",
        "                break\n",
        "\n",
        "    return arr\n",
        "\n",
        "if __name__ == \"__main__\":\n",
        "    arr=[3,5,4,1,2]\n",
        "    print(insertion(arr))"
      ]
    }
  ]
}