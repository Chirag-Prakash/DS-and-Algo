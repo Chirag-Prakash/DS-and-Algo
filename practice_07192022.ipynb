{
  "nbformat": 4,
  "nbformat_minor": 0,
  "metadata": {
    "colab": {
      "name": "practice_07192022.ipynb",
      "provenance": [],
      "toc_visible": true,
      "authorship_tag": "ABX9TyNNyarofIkGFbB3jMmnsI3N"
    },
    "kernelspec": {
      "name": "python3",
      "display_name": "Python 3"
    },
    "language_info": {
      "name": "python"
    }
  },
  "cells": [
    {
      "cell_type": "code",
      "execution_count": null,
      "metadata": {
        "colab": {
          "base_uri": "https://localhost:8080/"
        },
        "id": "tsYckdeDb49c",
        "outputId": "38e40dbf-e38a-434c-8251-57243ff043eb"
      },
      "outputs": [
        {
          "output_type": "stream",
          "name": "stdout",
          "text": [
            "0\n",
            "1\n",
            "2\n",
            "3\n",
            "4\n",
            "5\n"
          ]
        }
      ],
      "source": [
        "#This is first time I'm practicing after starting the job at cognizant.\n",
        "name='Chirag'\n",
        "arr=[2,5,6,9,8]\n",
        "for i in range(len(arr)+1):\n",
        "  print(i)"
      ]
    },
    {
      "cell_type": "code",
      "source": [
        "nums = [1,2,3,1,1,3]\n",
        "for i in range(len(nums)):\n",
        "  if nums[i] in nums[i+1:]:\n",
        "    print(nums[i])"
      ],
      "metadata": {
        "id": "jN0xP_g2cRVU",
        "colab": {
          "base_uri": "https://localhost:8080/"
        },
        "outputId": "c281ccff-3cb1-4201-8a26-aa6b8420c78c"
      },
      "execution_count": 4,
      "outputs": [
        {
          "output_type": "stream",
          "name": "stdout",
          "text": [
            "1\n",
            "3\n",
            "1\n"
          ]
        }
      ]
    },
    {
      "cell_type": "code",
      "source": [
        "A = [1,2,3,1,1,3]\n",
        "\n",
        "dic={}\n",
        "res = 0\n",
        "for num in A:\n",
        "  if num in dic:\n",
        "    dic[num] +=1\n",
        "  else:\n",
        "    dic[num] = 1\n",
        "print(dic)"
      ],
      "metadata": {
        "colab": {
          "base_uri": "https://localhost:8080/"
        },
        "id": "4-L0sZEOwFpp",
        "outputId": "b04b67c2-683a-4429-8ac1-4d8e1cf8b26e"
      },
      "execution_count": 9,
      "outputs": [
        {
          "output_type": "stream",
          "name": "stdout",
          "text": [
            "{1: 3, 2: 1, 3: 2}\n"
          ]
        }
      ]
    },
    {
      "cell_type": "code",
      "source": [
        "A = [1,2,3,1,1,3]\n",
        "\n",
        "top = max(A)\n",
        "print(top)"
      ],
      "metadata": {
        "colab": {
          "base_uri": "https://localhost:8080/"
        },
        "id": "eLHt2p0518kv",
        "outputId": "86d978da-b9a5-4c73-d3df-72d0e0301f43"
      },
      "execution_count": 11,
      "outputs": [
        {
          "output_type": "stream",
          "name": "stdout",
          "text": [
            "3\n"
          ]
        }
      ]
    },
    {
      "cell_type": "code",
      "source": [
        "candies = [4,2,1,1,2]\n",
        "extraCandies = 1\n",
        "\n",
        "top = max(candies)\n",
        "ans=[]\n",
        "for i in candies:\n",
        "  if i+extraCandies > top:\n",
        "    ans.append(True)\n",
        "  else:\n",
        "    ans.append(False)\n",
        "print(ans)"
      ],
      "metadata": {
        "colab": {
          "base_uri": "https://localhost:8080/"
        },
        "id": "lQwyIuad9p1V",
        "outputId": "50df68fb-4e61-4e78-906a-77ea0556c202"
      },
      "execution_count": 13,
      "outputs": [
        {
          "output_type": "stream",
          "name": "stdout",
          "text": [
            "[True, False, False, False, False]\n"
          ]
        }
      ]
    },
    {
      "cell_type": "code",
      "source": [
        "candies = [4,2,1,1,2]\n",
        "\n",
        "for c, ele in enumerate(candies,1):\n",
        "  print(c,ele)"
      ],
      "metadata": {
        "colab": {
          "base_uri": "https://localhost:8080/"
        },
        "id": "9pDXn5-V_Pec",
        "outputId": "072792a3-e1ac-4ad4-eb31-e1a86e077821"
      },
      "execution_count": 7,
      "outputs": [
        {
          "output_type": "stream",
          "name": "stdout",
          "text": [
            "1 4\n",
            "2 2\n",
            "3 1\n",
            "4 1\n",
            "5 2\n"
          ]
        }
      ]
    },
    {
      "cell_type": "code",
      "source": [
        "def smallerNumbersThanCurrent(self, nums: List[int]) -> List[int]:\n",
        "    dct = {}\n",
        "    for i, n in enumerate(sorted(nums)):\n",
        "        if n not in dct:\n",
        "            dct[n] = i\n",
        "    return [dct[n] for n in nums]"
      ],
      "metadata": {
        "id": "MZnNTkT-HUOZ"
      },
      "execution_count": null,
      "outputs": []
    },
    {
      "cell_type": "code",
      "source": [
        "nums = [1,2,3,4]\n",
        "\n",
        "ans = []\n",
        "for i in range(0,len(nums),2):\n",
        "  print(nums[i])"
      ],
      "metadata": {
        "colab": {
          "base_uri": "https://localhost:8080/"
        },
        "id": "XiemS4ZSJ62w",
        "outputId": "8926be9d-d6a6-4c34-952c-9faef836b89e"
      },
      "execution_count": 9,
      "outputs": [
        {
          "output_type": "stream",
          "name": "stdout",
          "text": [
            "1\n",
            "3\n"
          ]
        }
      ]
    },
    {
      "cell_type": "code",
      "source": [
        "A=1*5"
      ],
      "metadata": {
        "id": "Ga-jIZsrJ-H2"
      },
      "execution_count": 18,
      "outputs": []
    },
    {
      "cell_type": "code",
      "source": [
        "A=[]"
      ],
      "metadata": {
        "id": "d0WX4MzgJ-Fz"
      },
      "execution_count": 21,
      "outputs": []
    },
    {
      "cell_type": "code",
      "source": [
        "A += [3]*4"
      ],
      "metadata": {
        "id": "st4O1npCJ-DI"
      },
      "execution_count": 26,
      "outputs": []
    },
    {
      "cell_type": "code",
      "source": [
        "A"
      ],
      "metadata": {
        "colab": {
          "base_uri": "https://localhost:8080/"
        },
        "id": "0d0hlMp4J-A1",
        "outputId": "33fbe036-972e-4d73-fb8f-e02656a7922d"
      },
      "execution_count": 27,
      "outputs": [
        {
          "output_type": "execute_result",
          "data": {
            "text/plain": [
              "[1, 1, 1, 1, 2, 2, 2, 2, 3, 3, 3, 3]"
            ]
          },
          "metadata": {},
          "execution_count": 27
        }
      ]
    },
    {
      "cell_type": "code",
      "source": [
        "#Zip\n",
        "names = ['Mukesh', 'Roni', 'Chari']\n",
        "ages = [24, 50, 18]\n",
        "\n",
        "\n",
        "\n",
        "for i, (name, age) in enumerate(zip(names,ages)):\n",
        "\n",
        "  print(i, age+1, name)\n"
      ],
      "metadata": {
        "colab": {
          "base_uri": "https://localhost:8080/"
        },
        "id": "GhpuM24rJ9-0",
        "outputId": "c1c02594-eaa9-4e80-b581-62f8c302fa86"
      },
      "execution_count": 57,
      "outputs": [
        {
          "output_type": "stream",
          "name": "stdout",
          "text": [
            "0 25 Mukesh\n",
            "1 51 Roni\n",
            "2 19 Chari\n"
          ]
        }
      ]
    },
    {
      "cell_type": "code",
      "source": [
        "map1=zip(names,ages)"
      ],
      "metadata": {
        "id": "ZNWIrQg3J98l"
      },
      "execution_count": 64,
      "outputs": []
    },
    {
      "cell_type": "code",
      "source": [
        "type(map1)"
      ],
      "metadata": {
        "colab": {
          "base_uri": "https://localhost:8080/"
        },
        "id": "c9OnsOoaaDyh",
        "outputId": "de5d54e9-7086-4874-ad02-7d878756f378"
      },
      "execution_count": 65,
      "outputs": [
        {
          "output_type": "execute_result",
          "data": {
            "text/plain": [
              "zip"
            ]
          },
          "metadata": {},
          "execution_count": 65
        }
      ]
    },
    {
      "cell_type": "code",
      "source": [
        "listed_zip = list(map1)"
      ],
      "metadata": {
        "id": "RtIPsXRMJ96r"
      },
      "execution_count": 66,
      "outputs": []
    },
    {
      "cell_type": "code",
      "source": [
        "na, ag = zip(*listed_zip)"
      ],
      "metadata": {
        "id": "JiNYutG3J94r"
      },
      "execution_count": 67,
      "outputs": []
    },
    {
      "cell_type": "code",
      "source": [
        "type(na)"
      ],
      "metadata": {
        "colab": {
          "base_uri": "https://localhost:8080/"
        },
        "id": "5uA4RgtrJ92m",
        "outputId": "be1864df-7a54-4cfc-fa4f-08fef149af7d"
      },
      "execution_count": 68,
      "outputs": [
        {
          "output_type": "execute_result",
          "data": {
            "text/plain": [
              "tuple"
            ]
          },
          "metadata": {},
          "execution_count": 68
        }
      ]
    },
    {
      "cell_type": "code",
      "source": [
        "print(na)"
      ],
      "metadata": {
        "colab": {
          "base_uri": "https://localhost:8080/"
        },
        "id": "gbJHZy5NJ90R",
        "outputId": "f4f884ac-647b-4278-da34-856a91b35580"
      },
      "execution_count": 69,
      "outputs": [
        {
          "output_type": "stream",
          "name": "stdout",
          "text": [
            "('Mukesh', 'Roni', 'Chari')\n"
          ]
        }
      ]
    },
    {
      "cell_type": "code",
      "source": [
        "A"
      ],
      "metadata": {
        "colab": {
          "base_uri": "https://localhost:8080/"
        },
        "id": "PXdOg-awJ9yJ",
        "outputId": "4ff12e8d-a55b-43ce-b11a-eea940ed3438"
      },
      "execution_count": 70,
      "outputs": [
        {
          "output_type": "execute_result",
          "data": {
            "text/plain": [
              "[1, 1, 1, 1, 2, 2, 2, 2, 3, 3, 3, 3]"
            ]
          },
          "metadata": {},
          "execution_count": 70
        }
      ]
    },
    {
      "cell_type": "code",
      "source": [
        "ages = [24, 50, 18,34,65,23,74]\n",
        "print(ages[::2])"
      ],
      "metadata": {
        "colab": {
          "base_uri": "https://localhost:8080/"
        },
        "id": "26v8wLMDJ9rJ",
        "outputId": "3333fcb6-d6de-4895-ec61-c13e72b04fea"
      },
      "execution_count": 74,
      "outputs": [
        {
          "output_type": "stream",
          "name": "stdout",
          "text": [
            "[50, 34, 23]\n"
          ]
        }
      ]
    },
    {
      "cell_type": "code",
      "source": [
        "a = ''.join(names)\n",
        "print(a)"
      ],
      "metadata": {
        "colab": {
          "base_uri": "https://localhost:8080/"
        },
        "id": "pvdruA2bJ9VU",
        "outputId": "1d6085e4-1471-4cdf-bb74-323b41a2b322"
      },
      "execution_count": 83,
      "outputs": [
        {
          "output_type": "stream",
          "name": "stdout",
          "text": [
            "MukeshRoniChari\n"
          ]
        }
      ]
    },
    {
      "cell_type": "code",
      "source": [
        "items = [[\"phone\",\"silver\",\"pixel\"],[\"computer\",\"silver\",\"lenovo\"],[\"phone\",\"gold\",\"iphone\"]]\n",
        "ruleKey = \"color\"\n",
        "ruleValue = \"silver\"\n",
        "\n",
        "ans = 0\n",
        "key_list={\n",
        "            \n",
        "            'type': 0,\n",
        "            'color': 1,\n",
        "            'name': 2\n",
        "        }\n",
        "\n",
        "for i in items:\n",
        "  if i[key_list[ruleKey]] == ruleValue:\n",
        "    ans +=1\n",
        "\n",
        "print(ans)\n"
      ],
      "metadata": {
        "colab": {
          "base_uri": "https://localhost:8080/"
        },
        "id": "evhCEpdAgkCg",
        "outputId": "e2622baa-efdd-4285-8bf9-f0a11d5f69c9"
      },
      "execution_count": 86,
      "outputs": [
        {
          "output_type": "stream",
          "name": "stdout",
          "text": [
            "2\n"
          ]
        }
      ]
    },
    {
      "cell_type": "code",
      "source": [
        "\n",
        "ans = 0\n",
        "ans = sum(arr[0:5])"
      ],
      "metadata": {
        "id": "TZ1hUeDJmPAA"
      },
      "execution_count": 19,
      "outputs": []
    },
    {
      "cell_type": "code",
      "source": [
        "ans"
      ],
      "metadata": {
        "colab": {
          "base_uri": "https://localhost:8080/"
        },
        "id": "Rv2h7BLymO9k",
        "outputId": "57b29776-2b6c-4269-9a21-adffc87d92f1"
      },
      "execution_count": 14,
      "outputs": [
        {
          "output_type": "execute_result",
          "data": {
            "text/plain": [
              "15"
            ]
          },
          "metadata": {},
          "execution_count": 14
        }
      ]
    },
    {
      "cell_type": "code",
      "source": [
        "for i in range(3, 8,2):\n",
        "  print(i)"
      ],
      "metadata": {
        "colab": {
          "base_uri": "https://localhost:8080/"
        },
        "id": "zXIVcLdUmO39",
        "outputId": "6dd9ebda-89dc-4dd7-cd96-3e0ed8b1be43"
      },
      "execution_count": 16,
      "outputs": [
        {
          "output_type": "stream",
          "name": "stdout",
          "text": [
            "3\n",
            "5\n",
            "7\n"
          ]
        }
      ]
    },
    {
      "cell_type": "code",
      "source": [
        "arr= [4,2,5,4,5,3]\n",
        "arr.sort()\n",
        "print(arr)"
      ],
      "metadata": {
        "colab": {
          "base_uri": "https://localhost:8080/"
        },
        "id": "6NzrCQ6cmO1z",
        "outputId": "1a82d6d6-46fd-44e8-b60e-9840cf31d6a3"
      },
      "execution_count": 44,
      "outputs": [
        {
          "output_type": "stream",
          "name": "stdout",
          "text": [
            "[2, 3, 4, 4, 5, 5]\n"
          ]
        }
      ]
    },
    {
      "cell_type": "code",
      "source": [
        "arr[1:].count(4)"
      ],
      "metadata": {
        "colab": {
          "base_uri": "https://localhost:8080/"
        },
        "id": "L_yGw5jdmOz3",
        "outputId": "ab0ac948-5e73-4c83-e1ec-585e01be420b"
      },
      "execution_count": 24,
      "outputs": [
        {
          "output_type": "execute_result",
          "data": {
            "text/plain": [
              "1"
            ]
          },
          "metadata": {},
          "execution_count": 24
        }
      ]
    },
    {
      "cell_type": "code",
      "source": [
        "from collections import defaultdict\n",
        "\n",
        "a = defaultdict(int)\n",
        "\n",
        "a[1] = 1\n",
        "a[2] = 2\n",
        "print(a[1])\n",
        "print(a[3])\n",
        "print(a[4])"
      ],
      "metadata": {
        "colab": {
          "base_uri": "https://localhost:8080/"
        },
        "id": "hKV45iJ8mOxe",
        "outputId": "ddc35fab-a409-44ca-abe1-5f455d3d5b6e"
      },
      "execution_count": 8,
      "outputs": [
        {
          "output_type": "stream",
          "name": "stdout",
          "text": [
            "1\n",
            "0\n",
            "0\n"
          ]
        }
      ]
    },
    {
      "cell_type": "code",
      "source": [
        "a = 'cabab'\n"
      ],
      "metadata": {
        "id": "zgdT2qp2mOvW"
      },
      "execution_count": 20,
      "outputs": []
    },
    {
      "cell_type": "code",
      "source": [
        "'abc' == ''.join(sorted(set(a)))"
      ],
      "metadata": {
        "colab": {
          "base_uri": "https://localhost:8080/"
        },
        "id": "jceEmcOOmOs5",
        "outputId": "e5afbca2-f85b-4f7a-c37d-10b26dc9c9c9"
      },
      "execution_count": 21,
      "outputs": [
        {
          "output_type": "execute_result",
          "data": {
            "text/plain": [
              "True"
            ]
          },
          "metadata": {},
          "execution_count": 21
        }
      ]
    },
    {
      "cell_type": "code",
      "source": [
        "print(list(a))\n",
        "\n",
        "'b' in list(a)"
      ],
      "metadata": {
        "colab": {
          "base_uri": "https://localhost:8080/"
        },
        "id": "OiKReu5NBKa5",
        "outputId": "422e3f6a-4c1d-411a-fe41-7d4566b6e496"
      },
      "execution_count": 27,
      "outputs": [
        {
          "output_type": "stream",
          "name": "stdout",
          "text": [
            "['c', 'a', 'b', 'a', 'b']\n"
          ]
        },
        {
          "output_type": "execute_result",
          "data": {
            "text/plain": [
              "True"
            ]
          },
          "metadata": {},
          "execution_count": 27
        }
      ]
    },
    {
      "cell_type": "code",
      "source": [
        "s = \"Hello how are you Contestant\"\n",
        "k = 4\n",
        "\n",
        "s.find(\" \", 3)"
      ],
      "metadata": {
        "colab": {
          "base_uri": "https://localhost:8080/"
        },
        "id": "u90bIwz3WUVy",
        "outputId": "cbee1b8c-197c-4e2e-ac39-76b230a5b41a"
      },
      "execution_count": 31,
      "outputs": [
        {
          "output_type": "execute_result",
          "data": {
            "text/plain": [
              "5"
            ]
          },
          "metadata": {},
          "execution_count": 31
        }
      ]
    },
    {
      "cell_type": "code",
      "source": [
        "l = s.split(\" \")\n",
        "l[:k]"
      ],
      "metadata": {
        "colab": {
          "base_uri": "https://localhost:8080/"
        },
        "id": "NdeM6XnEa1b3",
        "outputId": "843f65f9-14fb-4a0f-bbe5-1414181bf8c6"
      },
      "execution_count": 37,
      "outputs": [
        {
          "output_type": "execute_result",
          "data": {
            "text/plain": [
              "['Hello', 'how', 'are', 'you']"
            ]
          },
          "metadata": {},
          "execution_count": 37
        }
      ]
    },
    {
      "cell_type": "code",
      "source": [
        "s = \"batpollbatsitbat\"\n",
        "str = \"bat\"\n",
        "n = 2\n",
        "sep = s.split(str, n)\n",
        "sep\n",
        "print(len(s) - len(sep[-1]) - len(str))"
      ],
      "metadata": {
        "colab": {
          "base_uri": "https://localhost:8080/"
        },
        "id": "hjmDXruPcV-a",
        "outputId": "0601f892-3d85-4230-9367-4f62cdd8bfb1"
      },
      "execution_count": 39,
      "outputs": [
        {
          "output_type": "stream",
          "name": "stdout",
          "text": [
            "7\n"
          ]
        }
      ]
    },
    {
      "cell_type": "code",
      "source": [
        "nums = [5,6,2,7,4]\n",
        "l = nums.sort()\n",
        "print(l)"
      ],
      "metadata": {
        "colab": {
          "base_uri": "https://localhost:8080/"
        },
        "id": "cXevwOL-jEOE",
        "outputId": "fd9da940-0816-44ef-a40a-53eb56fbe0c0"
      },
      "execution_count": 42,
      "outputs": [
        {
          "output_type": "stream",
          "name": "stdout",
          "text": [
            "None\n"
          ]
        }
      ]
    },
    {
      "cell_type": "code",
      "source": [
        ""
      ],
      "metadata": {
        "id": "eHO1JBtFldUj"
      },
      "execution_count": null,
      "outputs": []
    },
    {
      "cell_type": "code",
      "source": [
        ""
      ],
      "metadata": {
        "id": "MDmFJMSsldSS"
      },
      "execution_count": null,
      "outputs": []
    },
    {
      "cell_type": "code",
      "source": [
        ""
      ],
      "metadata": {
        "id": "J_sGwFP7ldQH"
      },
      "execution_count": null,
      "outputs": []
    },
    {
      "cell_type": "code",
      "source": [
        ""
      ],
      "metadata": {
        "id": "_cXDcQ7qldNe"
      },
      "execution_count": null,
      "outputs": []
    },
    {
      "cell_type": "code",
      "source": [
        ""
      ],
      "metadata": {
        "id": "kV0T5Io9ldLm"
      },
      "execution_count": null,
      "outputs": []
    },
    {
      "cell_type": "code",
      "source": [
        ""
      ],
      "metadata": {
        "id": "z4PFi0NildJl"
      },
      "execution_count": null,
      "outputs": []
    },
    {
      "cell_type": "code",
      "source": [
        ""
      ],
      "metadata": {
        "id": "OFW6GRJuldGJ"
      },
      "execution_count": null,
      "outputs": []
    },
    {
      "cell_type": "code",
      "source": [
        ""
      ],
      "metadata": {
        "id": "DwsxP1OMldEb"
      },
      "execution_count": null,
      "outputs": []
    },
    {
      "cell_type": "code",
      "source": [
        ""
      ],
      "metadata": {
        "id": "Qlt4ux2PldCN"
      },
      "execution_count": null,
      "outputs": []
    },
    {
      "cell_type": "code",
      "source": [
        ""
      ],
      "metadata": {
        "id": "fpjKAloUldAP"
      },
      "execution_count": null,
      "outputs": []
    },
    {
      "cell_type": "code",
      "source": [
        ""
      ],
      "metadata": {
        "id": "WQt4OAyulc-Q"
      },
      "execution_count": null,
      "outputs": []
    },
    {
      "cell_type": "code",
      "source": [
        ""
      ],
      "metadata": {
        "id": "swGeIHH8lc59"
      },
      "execution_count": null,
      "outputs": []
    },
    {
      "cell_type": "code",
      "source": [
        ""
      ],
      "metadata": {
        "id": "KqiVRVM9lc34"
      },
      "execution_count": null,
      "outputs": []
    }
  ]
}