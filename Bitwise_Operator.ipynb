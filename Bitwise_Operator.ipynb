{
  "nbformat": 4,
  "nbformat_minor": 0,
  "metadata": {
    "colab": {
      "name": "Bitwise Operator.ipynb",
      "provenance": [],
      "authorship_tag": "ABX9TyPFdzU6irio8BtRUny289Y0"
    },
    "kernelspec": {
      "name": "python3",
      "display_name": "Python 3"
    },
    "language_info": {
      "name": "python"
    }
  },
  "cells": [
    {
      "cell_type": "code",
      "execution_count": null,
      "metadata": {
        "id": "AIN3_X1rqJ4W",
        "colab": {
          "base_uri": "https://localhost:8080/"
        },
        "outputId": "4f658de2-ca26-46b3-803d-5ec620427d0d"
      },
      "outputs": [
        {
          "output_type": "stream",
          "name": "stdout",
          "text": [
            "-11\n"
          ]
        }
      ],
      "source": [
        "print(~10)"
      ]
    },
    {
      "cell_type": "code",
      "source": [
        "(25 >> 3) & 1"
      ],
      "metadata": {
        "id": "INaWKmR0qUxn",
        "colab": {
          "base_uri": "https://localhost:8080/"
        },
        "outputId": "ed2336f8-c49b-4299-801b-cd445aa2142f"
      },
      "execution_count": null,
      "outputs": [
        {
          "output_type": "execute_result",
          "data": {
            "text/plain": [
              "1"
            ]
          },
          "metadata": {},
          "execution_count": 2
        }
      ]
    },
    {
      "cell_type": "code",
      "source": [
        "int('0011000',2)"
      ],
      "metadata": {
        "id": "YDGE5mYp4ZV1",
        "colab": {
          "base_uri": "https://localhost:8080/"
        },
        "outputId": "df954087-c700-44ad-9b1b-bcf1b6a5d00b"
      },
      "execution_count": null,
      "outputs": [
        {
          "output_type": "execute_result",
          "data": {
            "text/plain": [
              "24"
            ]
          },
          "metadata": {},
          "execution_count": 39
        }
      ]
    },
    {
      "cell_type": "code",
      "source": [
        "10 & 10"
      ],
      "metadata": {
        "colab": {
          "base_uri": "https://localhost:8080/"
        },
        "id": "1zgXkaj22QFr",
        "outputId": "d3f7f775-c1ed-4da9-d4eb-6b0da3ac8b0b"
      },
      "execution_count": null,
      "outputs": [
        {
          "output_type": "execute_result",
          "data": {
            "text/plain": [
              "10"
            ]
          },
          "metadata": {},
          "execution_count": 3
        }
      ]
    },
    {
      "cell_type": "code",
      "source": [
        "print(~10)"
      ],
      "metadata": {
        "id": "Kyvukg5E2r7P",
        "colab": {
          "base_uri": "https://localhost:8080/"
        },
        "outputId": "8e60f62d-b7af-4f8a-f93d-a96843e1d25f"
      },
      "execution_count": null,
      "outputs": [
        {
          "output_type": "stream",
          "name": "stdout",
          "text": [
            "-11\n"
          ]
        }
      ]
    },
    {
      "cell_type": "code",
      "source": [
        "4 ^ 4 ^ 5 ^ 4 ^ 4"
      ],
      "metadata": {
        "colab": {
          "base_uri": "https://localhost:8080/"
        },
        "id": "-mMgvK-p_lk7",
        "outputId": "245507a6-4373-453b-82bf-99b1e2578d0e"
      },
      "execution_count": null,
      "outputs": [
        {
          "output_type": "execute_result",
          "data": {
            "text/plain": [
              "5"
            ]
          },
          "metadata": {},
          "execution_count": 48
        }
      ]
    },
    {
      "cell_type": "code",
      "source": [
        "int('11001100',2)"
      ],
      "metadata": {
        "colab": {
          "base_uri": "https://localhost:8080/"
        },
        "id": "j83Y-iat_06l",
        "outputId": "0d971809-20f7-47e8-a06f-23c49f09097e"
      },
      "execution_count": null,
      "outputs": [
        {
          "output_type": "execute_result",
          "data": {
            "text/plain": [
              "204"
            ]
          },
          "metadata": {},
          "execution_count": 49
        }
      ]
    },
    {
      "cell_type": "code",
      "source": [
        "n = 204"
      ],
      "metadata": {
        "id": "I1I5RN0qDwyP"
      },
      "execution_count": null,
      "outputs": []
    },
    {
      "cell_type": "code",
      "source": [
        "import math\n",
        "int(math.log2(n&-n)+1)"
      ],
      "metadata": {
        "colab": {
          "base_uri": "https://localhost:8080/"
        },
        "id": "FZ7aNkkDDzyJ",
        "outputId": "99cfbb9f-6986-46de-d52f-2048bbfc2234"
      },
      "execution_count": null,
      "outputs": [
        {
          "output_type": "execute_result",
          "data": {
            "text/plain": [
              "3"
            ]
          },
          "metadata": {},
          "execution_count": 6
        }
      ]
    },
    {
      "cell_type": "code",
      "source": [
        "bin(~(1 << 2))"
      ],
      "metadata": {
        "colab": {
          "base_uri": "https://localhost:8080/",
          "height": 35
        },
        "id": "Z5w_aFchI2SU",
        "outputId": "0d34db2d-1d85-4da0-e6b7-be553cc9f3d7"
      },
      "execution_count": null,
      "outputs": [
        {
          "output_type": "execute_result",
          "data": {
            "text/plain": [
              "'-0b101'"
            ],
            "application/vnd.google.colaboratory.intrinsic+json": {
              "type": "string"
            }
          },
          "metadata": {},
          "execution_count": 13
        }
      ]
    },
    {
      "cell_type": "code",
      "source": [
        "bin(1 << 2)"
      ],
      "metadata": {
        "colab": {
          "base_uri": "https://localhost:8080/"
        },
        "id": "UfvbEjF2iP7l",
        "outputId": "29edbc97-ef7f-439f-b480-055e428c5d2f"
      },
      "execution_count": null,
      "outputs": [
        {
          "output_type": "stream",
          "name": "stdout",
          "text": [
            "0b100\n"
          ]
        }
      ]
    },
    {
      "cell_type": "code",
      "source": [
        "a = 11"
      ],
      "metadata": {
        "id": "2N3l1qmjiphb"
      },
      "execution_count": null,
      "outputs": []
    },
    {
      "cell_type": "code",
      "source": [
        "int('1011',2)"
      ],
      "metadata": {
        "colab": {
          "base_uri": "https://localhost:8080/"
        },
        "id": "BTNYIOuXj285",
        "outputId": "6c780e0b-73c9-4eda-f6a8-cf5d84d6db58"
      },
      "execution_count": null,
      "outputs": [
        {
          "output_type": "execute_result",
          "data": {
            "text/plain": [
              "11"
            ]
          },
          "metadata": {},
          "execution_count": 18
        }
      ]
    },
    {
      "cell_type": "code",
      "source": [
        "bin(~a)"
      ],
      "metadata": {
        "colab": {
          "base_uri": "https://localhost:8080/",
          "height": 35
        },
        "id": "QZlb6E_fkFuF",
        "outputId": "0e576d09-c1f5-4f0c-e8e9-6326cf175db5"
      },
      "execution_count": null,
      "outputs": [
        {
          "output_type": "execute_result",
          "data": {
            "text/plain": [
              "'-0b1100'"
            ],
            "application/vnd.google.colaboratory.intrinsic+json": {
              "type": "string"
            }
          },
          "metadata": {},
          "execution_count": 22
        }
      ]
    },
    {
      "cell_type": "code",
      "source": [
        "arr = ['a','b','c',2,5.0]"
      ],
      "metadata": {
        "id": "csmtglVYkHpT"
      },
      "execution_count": null,
      "outputs": []
    },
    {
      "cell_type": "code",
      "source": [
        "a = 'Hello'"
      ],
      "metadata": {
        "id": "0W2wqnenhooA"
      },
      "execution_count": null,
      "outputs": []
    },
    {
      "cell_type": "code",
      "source": [
        "b = [i for i in a]"
      ],
      "metadata": {
        "id": "CVjz1atSsUQT"
      },
      "execution_count": null,
      "outputs": []
    },
    {
      "cell_type": "code",
      "source": [
        "b"
      ],
      "metadata": {
        "id": "s0IKncvuz7N1",
        "outputId": "d082da6e-056f-4d28-b416-2f3b5687b451",
        "colab": {
          "base_uri": "https://localhost:8080/"
        }
      },
      "execution_count": null,
      "outputs": [
        {
          "output_type": "execute_result",
          "data": {
            "text/plain": [
              "['H', 'e', 'l', 'l', 'o']"
            ]
          },
          "metadata": {},
          "execution_count": 19
        }
      ]
    },
    {
      "cell_type": "code",
      "source": [
        "arr = [None, None, None]"
      ],
      "metadata": {
        "id": "tnbdaX7ksWkd"
      },
      "execution_count": null,
      "outputs": []
    },
    {
      "cell_type": "code",
      "source": [
        "arr[0] = ('Hemanth','4096')"
      ],
      "metadata": {
        "id": "x4Gh_z_0u8ih"
      },
      "execution_count": null,
      "outputs": []
    },
    {
      "cell_type": "code",
      "source": [
        "arr"
      ],
      "metadata": {
        "colab": {
          "base_uri": "https://localhost:8080/"
        },
        "id": "fJ3UxCvEvDaY",
        "outputId": "7495bd82-2b4b-4d46-cbc9-29d6ba21bce7"
      },
      "execution_count": null,
      "outputs": [
        {
          "output_type": "execute_result",
          "data": {
            "text/plain": [
              "[('Hemanth', '4096'), None, None]"
            ]
          },
          "metadata": {},
          "execution_count": 11
        }
      ]
    },
    {
      "cell_type": "code",
      "source": [
        "key = arr[0]"
      ],
      "metadata": {
        "id": "DIn7bYrjvO7i"
      },
      "execution_count": null,
      "outputs": []
    },
    {
      "cell_type": "code",
      "source": [
        "key"
      ],
      "metadata": {
        "colab": {
          "base_uri": "https://localhost:8080/"
        },
        "id": "nV5TwC_ovkED",
        "outputId": "f0d9fb7c-6edd-46bb-b685-c316de920649"
      },
      "execution_count": null,
      "outputs": [
        {
          "output_type": "execute_result",
          "data": {
            "text/plain": [
              "('Hemanth', '4096')"
            ]
          },
          "metadata": {},
          "execution_count": 16
        }
      ]
    },
    {
      "cell_type": "code",
      "source": [
        ""
      ],
      "metadata": {
        "id": "mh-A_I0vvkyF"
      },
      "execution_count": null,
      "outputs": []
    }
  ]
}