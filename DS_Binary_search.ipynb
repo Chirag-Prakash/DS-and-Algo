{
  "nbformat": 4,
  "nbformat_minor": 0,
  "metadata": {
    "colab": {
      "name": "DS_Binary_search.ipynb",
      "provenance": []
    },
    "kernelspec": {
      "name": "python3",
      "display_name": "Python 3"
    },
    "language_info": {
      "name": "python"
    }
  },
  "cells": [
    {
      "cell_type": "code",
      "execution_count": null,
      "metadata": {
        "id": "CcTEUqu4lbjG"
      },
      "outputs": [],
      "source": [
        "def findDuplicate(nums):\n",
        "      total_array,temp = 0,0\n",
        "\n",
        "      \n",
        "      for i in range(len(nums)):\n",
        "        total_array += nums[i]\n",
        "      \n",
        "      \n",
        "\n",
        "      for j in range(len(nums)):\n",
        "\n",
        "        temp +=j\n",
        "      \n",
        "\n",
        "      return total_array-temp"
      ]
    },
    {
      "cell_type": "code",
      "source": [
        "nums=[1,2,3,4,1]"
      ],
      "metadata": {
        "id": "bNWqnNn1lfed"
      },
      "execution_count": null,
      "outputs": []
    },
    {
      "cell_type": "code",
      "source": [
        "findDuplicate(nums)"
      ],
      "metadata": {
        "colab": {
          "base_uri": "https://localhost:8080/"
        },
        "id": "66QIWrRZliCb",
        "outputId": "d24a0d0b-260a-48ee-8611-fed105be7475"
      },
      "execution_count": null,
      "outputs": [
        {
          "output_type": "stream",
          "name": "stdout",
          "text": [
            "total_array 11\n",
            "count: 10\n"
          ]
        },
        {
          "output_type": "execute_result",
          "data": {
            "text/plain": [
              "1"
            ]
          },
          "metadata": {},
          "execution_count": 69
        }
      ]
    },
    {
      "cell_type": "code",
      "source": [
        ""
      ],
      "metadata": {
        "id": "04NZtQRjllkI"
      },
      "execution_count": null,
      "outputs": []
    },
    {
      "cell_type": "code",
      "source": [
        "def findDuplicate(nums):\n",
        "  length1 = len(nums)\n",
        "  for i in range(len(nums)):\n",
        "    for j in range(i+1,len(nums)):\n",
        "      if nums[i]==nums[j]:\n",
        "        return nums[i]"
      ],
      "metadata": {
        "id": "1SgGI0J0ojSC"
      },
      "execution_count": null,
      "outputs": []
    },
    {
      "cell_type": "code",
      "source": [
        "nums=[4,4,4,4,4]"
      ],
      "metadata": {
        "id": "o7MI1JpurHSg"
      },
      "execution_count": null,
      "outputs": []
    },
    {
      "cell_type": "code",
      "source": [
        "findDuplicate(nums)"
      ],
      "metadata": {
        "colab": {
          "base_uri": "https://localhost:8080/"
        },
        "id": "jYkMdIHArIp3",
        "outputId": "5fe2938c-aa43-4777-9f05-1242d8a4e8db"
      },
      "execution_count": null,
      "outputs": [
        {
          "output_type": "execute_result",
          "data": {
            "text/plain": [
              "4"
            ]
          },
          "metadata": {},
          "execution_count": 76
        }
      ]
    },
    {
      "cell_type": "code",
      "source": [
        "def checkIfExist(arr):\n",
        "  val2 = False\n",
        "  val = False\n",
        "  for i in range(len(arr)):\n",
        "\n",
        "    if arr[i] == 0:\n",
        "      val = False\n",
        "    \n",
        "    \n",
        "    if arr[i]*2 in arr and arr[i] != 0:\n",
        "      val = True\n",
        "      \n",
        "    else:\n",
        "      \n",
        "      val =  False\n",
        "    if val == True:\n",
        "        val2=True\n",
        "  return val2\n",
        "  \n",
        "      \n"
      ],
      "metadata": {
        "id": "sf5wUqTZrKbO"
      },
      "execution_count": null,
      "outputs": []
    },
    {
      "cell_type": "code",
      "source": [
        "arr = [0,5,10,3]"
      ],
      "metadata": {
        "id": "uIrjNWc0x3A-"
      },
      "execution_count": null,
      "outputs": []
    },
    {
      "cell_type": "code",
      "source": [
        "checkIfExist(arr)"
      ],
      "metadata": {
        "colab": {
          "base_uri": "https://localhost:8080/"
        },
        "id": "mIY8KVdxx4qj",
        "outputId": "dab3091c-28f5-43f4-9d20-6ad41d3a22cf"
      },
      "execution_count": null,
      "outputs": [
        {
          "output_type": "execute_result",
          "data": {
            "text/plain": [
              "True"
            ]
          },
          "metadata": {},
          "execution_count": 145
        }
      ]
    },
    {
      "cell_type": "code",
      "source": [
        "class User:\n",
        "  \n",
        "  def __init__(self, fname, lname):\n",
        "\n",
        "    self.first_name = fname\n",
        "    self.last_name = lname\n",
        "\n",
        "  def __repr__(self):\n",
        "    return \"My first name is {} and last name is {}\".format(self.first_name,self.last_name)\n",
        "\n",
        "  def __str__(self):\n",
        "    \n",
        "    return \"This is try to print {} and {}\".format(self.first_name, self.last_name)\n",
        "\n",
        "  def find_last_name(self, frs_nm):\n",
        "     for user in self.user_list:\n",
        "       if user.first_name == frs_nm:\n",
        "         return user\n"
      ],
      "metadata": {
        "id": "ZWs0XxFvx6ME"
      },
      "execution_count": null,
      "outputs": []
    },
    {
      "cell_type": "code",
      "source": [
        "chirag = User('Chirag', 'Prakash')"
      ],
      "metadata": {
        "id": "b0y_jSotsZ_K"
      },
      "execution_count": null,
      "outputs": []
    },
    {
      "cell_type": "code",
      "source": [
        "chirag.find_last_name(\"Chirag\")"
      ],
      "metadata": {
        "colab": {
          "base_uri": "https://localhost:8080/",
          "height": 298
        },
        "id": "qbIENYJvvcRN",
        "outputId": "1ded4b25-8069-46d1-9d09-6c99dfbf9795"
      },
      "execution_count": null,
      "outputs": [
        {
          "output_type": "error",
          "ename": "AttributeError",
          "evalue": "ignored",
          "traceback": [
            "\u001b[0;31m---------------------------------------------------------------------------\u001b[0m",
            "\u001b[0;31mAttributeError\u001b[0m                            Traceback (most recent call last)",
            "\u001b[0;32m<ipython-input-11-1ca981a60d38>\u001b[0m in \u001b[0;36m<module>\u001b[0;34m()\u001b[0m\n\u001b[0;32m----> 1\u001b[0;31m \u001b[0mchirag\u001b[0m\u001b[0;34m.\u001b[0m\u001b[0mfind_last_name\u001b[0m\u001b[0;34m(\u001b[0m\u001b[0;34m\"Chirag\"\u001b[0m\u001b[0;34m)\u001b[0m\u001b[0;34m\u001b[0m\u001b[0;34m\u001b[0m\u001b[0m\n\u001b[0m",
            "\u001b[0;32m<ipython-input-7-aadc26083518>\u001b[0m in \u001b[0;36mfind_last_name\u001b[0;34m(self, frs_nm)\u001b[0m\n\u001b[1;32m     14\u001b[0m \u001b[0;34m\u001b[0m\u001b[0m\n\u001b[1;32m     15\u001b[0m   \u001b[0;32mdef\u001b[0m \u001b[0mfind_last_name\u001b[0m\u001b[0;34m(\u001b[0m\u001b[0mself\u001b[0m\u001b[0;34m,\u001b[0m \u001b[0mfrs_nm\u001b[0m\u001b[0;34m)\u001b[0m\u001b[0;34m:\u001b[0m\u001b[0;34m\u001b[0m\u001b[0;34m\u001b[0m\u001b[0m\n\u001b[0;32m---> 16\u001b[0;31m      \u001b[0;32mfor\u001b[0m \u001b[0muser\u001b[0m \u001b[0;32min\u001b[0m \u001b[0mself\u001b[0m\u001b[0;34m.\u001b[0m\u001b[0muser_list\u001b[0m\u001b[0;34m:\u001b[0m\u001b[0;34m\u001b[0m\u001b[0;34m\u001b[0m\u001b[0m\n\u001b[0m\u001b[1;32m     17\u001b[0m        \u001b[0;32mif\u001b[0m \u001b[0muser\u001b[0m\u001b[0;34m.\u001b[0m\u001b[0mfirst_name\u001b[0m \u001b[0;34m==\u001b[0m \u001b[0mfrs_nm\u001b[0m\u001b[0;34m:\u001b[0m\u001b[0;34m\u001b[0m\u001b[0;34m\u001b[0m\u001b[0m\n\u001b[1;32m     18\u001b[0m          \u001b[0;32mreturn\u001b[0m \u001b[0muser\u001b[0m\u001b[0;34m\u001b[0m\u001b[0;34m\u001b[0m\u001b[0m\n",
            "\u001b[0;31mAttributeError\u001b[0m: 'User' object has no attribute 'user_list'"
          ]
        }
      ]
    },
    {
      "cell_type": "code",
      "source": [
        "nammo = User(\"Nammo\",\"Yadav\")"
      ],
      "metadata": {
        "id": "nlkEh00S7zCU"
      },
      "execution_count": null,
      "outputs": []
    },
    {
      "cell_type": "code",
      "source": [
        "user_list = [chirag, nammo]"
      ],
      "metadata": {
        "id": "D4kVtNnD73TC"
      },
      "execution_count": null,
      "outputs": []
    },
    {
      "cell_type": "code",
      "source": [
        "print(user_list)"
      ],
      "metadata": {
        "colab": {
          "base_uri": "https://localhost:8080/"
        },
        "id": "XtUa2KeS8BGZ",
        "outputId": "6484ed5d-f647-4b89-c307-5fb7cb78497e"
      },
      "execution_count": null,
      "outputs": [
        {
          "output_type": "stream",
          "name": "stdout",
          "text": [
            "[My first name is Chirag and last name is Prakash, My first name is Nammo and last name is Yadav]\n"
          ]
        }
      ]
    },
    {
      "cell_type": "code",
      "source": [
        ""
      ],
      "metadata": {
        "colab": {
          "base_uri": "https://localhost:8080/"
        },
        "id": "ot25dXkA8CSh",
        "outputId": "5cae351c-099a-4fc3-f262-fd745e6ce942"
      },
      "execution_count": null,
      "outputs": [
        {
          "output_type": "stream",
          "name": "stdout",
          "text": [
            "This is try to print Chirag and Prakash\n"
          ]
        }
      ]
    },
    {
      "cell_type": "code",
      "source": [
        "user_list"
      ],
      "metadata": {
        "colab": {
          "base_uri": "https://localhost:8080/"
        },
        "id": "qCWiIWJ08Lnj",
        "outputId": "64d84d44-977c-4c8f-ff81-721354f32c88"
      },
      "execution_count": null,
      "outputs": [
        {
          "output_type": "execute_result",
          "data": {
            "text/plain": [
              "[My first name is Chirag and last name is Prakash,\n",
              " My first name is Nammo and last name is Yadav]"
            ]
          },
          "metadata": {},
          "execution_count": 80
        }
      ]
    },
    {
      "cell_type": "code",
      "source": [
        "1,2,3,4,5"
      ],
      "metadata": {
        "id": "mJ5yf1nn8Oq1"
      },
      "execution_count": null,
      "outputs": []
    }
  ]
}