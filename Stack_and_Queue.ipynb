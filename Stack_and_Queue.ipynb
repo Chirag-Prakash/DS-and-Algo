{
  "nbformat": 4,
  "nbformat_minor": 0,
  "metadata": {
    "colab": {
      "name": "Stack and Queue.ipynb",
      "provenance": [],
      "collapsed_sections": [],
      "authorship_tag": "ABX9TyOlhI9k2kKFjqnc3GlyoSiV",
      "include_colab_link": true
    },
    "kernelspec": {
      "name": "python3",
      "display_name": "Python 3"
    },
    "language_info": {
      "name": "python"
    }
  },
  "cells": [
    {
      "cell_type": "markdown",
      "metadata": {
        "id": "view-in-github",
        "colab_type": "text"
      },
      "source": [
        "<a href=\"https://colab.research.google.com/github/Chirag-Prakash/DS-and-Algo/blob/main/Stack_and_Queue.ipynb\" target=\"_parent\"><img src=\"https://colab.research.google.com/assets/colab-badge.svg\" alt=\"Open In Colab\"/></a>"
      ]
    },
    {
      "cell_type": "code",
      "execution_count": 1,
      "metadata": {
        "id": "5oT3spoJvbyF"
      },
      "outputs": [],
      "source": [
        "from collections import deque"
      ]
    },
    {
      "cell_type": "code",
      "source": [
        "stack = deque()"
      ],
      "metadata": {
        "id": "q_9THNL1vpFh"
      },
      "execution_count": 2,
      "outputs": []
    },
    {
      "cell_type": "code",
      "source": [
        "stack.append('a')"
      ],
      "metadata": {
        "id": "PSYLFo1EyEHc"
      },
      "execution_count": 4,
      "outputs": []
    },
    {
      "cell_type": "code",
      "source": [
        "stack.append('b')"
      ],
      "metadata": {
        "id": "dIuNHs_OyGYt"
      },
      "execution_count": 5,
      "outputs": []
    },
    {
      "cell_type": "code",
      "source": [
        "stack.append('c')"
      ],
      "metadata": {
        "id": "UHaMZn4syKVv"
      },
      "execution_count": 6,
      "outputs": []
    },
    {
      "cell_type": "code",
      "source": [
        "stack"
      ],
      "metadata": {
        "colab": {
          "base_uri": "https://localhost:8080/"
        },
        "id": "VhENSg3cyMh3",
        "outputId": "7987f55b-e823-4bde-cdf7-4f11f41af1cb"
      },
      "execution_count": 7,
      "outputs": [
        {
          "output_type": "execute_result",
          "data": {
            "text/plain": [
              "deque(['a', 'b', 'c'])"
            ]
          },
          "metadata": {},
          "execution_count": 7
        }
      ]
    },
    {
      "cell_type": "code",
      "source": [
        "print(stack)"
      ],
      "metadata": {
        "colab": {
          "base_uri": "https://localhost:8080/"
        },
        "id": "xUhZt356yNYL",
        "outputId": "d0d64f42-7f73-4bce-c310-a8ce156a06c4"
      },
      "execution_count": 8,
      "outputs": [
        {
          "output_type": "stream",
          "name": "stdout",
          "text": [
            "deque(['a', 'b', 'c'])\n"
          ]
        }
      ]
    },
    {
      "cell_type": "code",
      "source": [
        "stack.pop()"
      ],
      "metadata": {
        "colab": {
          "base_uri": "https://localhost:8080/",
          "height": 35
        },
        "id": "euFtyj9eyOtC",
        "outputId": "0ccbcaae-41ac-4aea-f568-1f384ef3fe7d"
      },
      "execution_count": 9,
      "outputs": [
        {
          "output_type": "execute_result",
          "data": {
            "text/plain": [
              "'c'"
            ],
            "application/vnd.google.colaboratory.intrinsic+json": {
              "type": "string"
            }
          },
          "metadata": {},
          "execution_count": 9
        }
      ]
    },
    {
      "cell_type": "code",
      "source": [
        "stack_copy = stack.copy()"
      ],
      "metadata": {
        "id": "oJSPvnYPyY97"
      },
      "execution_count": 12,
      "outputs": []
    },
    {
      "cell_type": "code",
      "source": [
        "stack_copy.append('C')"
      ],
      "metadata": {
        "id": "gRg31aDTycyN"
      },
      "execution_count": 14,
      "outputs": []
    },
    {
      "cell_type": "code",
      "source": [
        "stack"
      ],
      "metadata": {
        "colab": {
          "base_uri": "https://localhost:8080/"
        },
        "id": "iOVHxxOhy4tq",
        "outputId": "d019f186-f6d0-469d-9249-b333a243469d"
      },
      "execution_count": 15,
      "outputs": [
        {
          "output_type": "execute_result",
          "data": {
            "text/plain": [
              "deque(['a', 'b'])"
            ]
          },
          "metadata": {},
          "execution_count": 15
        }
      ]
    },
    {
      "cell_type": "code",
      "source": [
        "stack_copy"
      ],
      "metadata": {
        "colab": {
          "base_uri": "https://localhost:8080/"
        },
        "id": "QWD3fosHy72q",
        "outputId": "023f28d1-95f1-4625-f0c9-5391975975ff"
      },
      "execution_count": 16,
      "outputs": [
        {
          "output_type": "execute_result",
          "data": {
            "text/plain": [
              "deque(['a', 'b', 'C'])"
            ]
          },
          "metadata": {},
          "execution_count": 16
        }
      ]
    },
    {
      "cell_type": "code",
      "source": [
        "stack[1]"
      ],
      "metadata": {
        "colab": {
          "base_uri": "https://localhost:8080/",
          "height": 35
        },
        "id": "650cn-vRy9D9",
        "outputId": "26589d69-0955-42a1-e963-27fa79bc105a"
      },
      "execution_count": 18,
      "outputs": [
        {
          "output_type": "execute_result",
          "data": {
            "text/plain": [
              "'b'"
            ],
            "application/vnd.google.colaboratory.intrinsic+json": {
              "type": "string"
            }
          },
          "metadata": {},
          "execution_count": 18
        }
      ]
    },
    {
      "cell_type": "code",
      "source": [
        "41 % 20"
      ],
      "metadata": {
        "colab": {
          "base_uri": "https://localhost:8080/"
        },
        "id": "qjcZzvYX0k9I",
        "outputId": "9d87f662-22bd-4828-94bb-800825e232d2"
      },
      "execution_count": 29,
      "outputs": [
        {
          "output_type": "execute_result",
          "data": {
            "text/plain": [
              "1"
            ]
          },
          "metadata": {},
          "execution_count": 29
        }
      ]
    },
    {
      "cell_type": "code",
      "source": [
        "a=[None]*5"
      ],
      "metadata": {
        "id": "OR0ShGwy17K_"
      },
      "execution_count": 36,
      "outputs": []
    },
    {
      "cell_type": "code",
      "source": [
        "a = 5"
      ],
      "metadata": {
        "id": "A_ZU6kDd2kl0"
      },
      "execution_count": 46,
      "outputs": []
    },
    {
      "cell_type": "code",
      "source": [
        "a[4]=5"
      ],
      "metadata": {
        "id": "-2CZoHxE2bMb"
      },
      "execution_count": 38,
      "outputs": []
    },
    {
      "cell_type": "code",
      "source": [
        "print(\"% s Hello \" % a)"
      ],
      "metadata": {
        "colab": {
          "base_uri": "https://localhost:8080/"
        },
        "id": "8406_jDB2dNq",
        "outputId": "1e7ebe7d-166d-44bb-caa2-ff6709c7aad4"
      },
      "execution_count": 55,
      "outputs": [
        {
          "output_type": "stream",
          "name": "stdout",
          "text": [
            "5 Hello \n"
          ]
        }
      ]
    },
    {
      "cell_type": "code",
      "source": [
        "#####################################################################################\n",
        "#####################################################################################\n",
        "\n",
        "\n",
        "############ QUEUE TEMPLATE #########################################\n",
        "\n",
        "#Making class for queue\n",
        "class queue:\n",
        "\n",
        "  def __init__(self, capacity):\n",
        "\n",
        "    self.front = self.size = 0\n",
        "    self.rear = 0\n",
        "    self.capacity = capacity\n",
        "    self.Q = [None]*capacity\n",
        "\n",
        "  \n",
        "  ## Defining is empty class\n",
        "\n",
        "  def isEmpty(self):\n",
        "    return self.size == 0\n",
        "      \n",
        "  \n",
        "  ## Defining is full class\n",
        "  def isFull(self):\n",
        "    return self.size == self.capacity\n",
        "\n",
        "      \n",
        "  \n",
        "\n",
        "  ## Adding to the queue\n",
        "  def EnQueue(self,val):\n",
        "\n",
        "    #Checking if list is full:\n",
        "    if self.isFull():\n",
        "      print(\"Queue is full\")\n",
        "      return\n",
        "    \n",
        "     \n",
        "    self.Q[self.rear]= val\n",
        "    self.rear = (self.rear +1) #% (self.capacity)\n",
        "    self.size = self.size +1\n",
        "\n",
        "  \n",
        "  # Removing from the queue\n",
        "  def DeQueue(self):\n",
        "\n",
        "    #Check if list is empty\n",
        "    if self.isEmpty():\n",
        "      print(\"Queue is empty\")\n",
        "      return\n",
        "    \n",
        "    self.front = (self.front +1)\n",
        "    self.size =self.size-1\n",
        "\n",
        "  #Check value from the front:\n",
        "  def from_front(self):\n",
        "\n",
        "    #Check if list is empty\n",
        "    if self.isEmpty():\n",
        "      print(\"Queue is empty\")\n",
        "      return\n",
        "    \n",
        "    ## Return value from the front\n",
        "\n",
        "    print(self.Q[self.front])\n",
        "\n",
        "    #Check value from the front:\n",
        "  def from_back(self):\n",
        "\n",
        "    #Check if list is empty\n",
        "    if self.isEmpty():\n",
        "      print(\"Queue is empty\")\n",
        "      return\n",
        "    \n",
        "    ## Return value from the front\n",
        "\n",
        "    print(self.Q[(self.rear)-1])\n",
        "\n",
        "  def PrintQueue(self):\n",
        "    for i in range(len(self.Q)):\n",
        "      print(self.Q[i])\n",
        "\n",
        "  \n",
        "\n",
        "\n",
        "#Calling main function\n",
        "\n",
        "if __name__ == '__main__':\n",
        "\n",
        "  queue1 = queue(5)\n",
        "  queue1.EnQueue(5)\n",
        "  queue1.EnQueue(15)\n",
        "  queue1.EnQueue(80)\n",
        "  queue1.EnQueue(50)\n",
        "  queue1.EnQueue(150)\n",
        "  queue1.EnQueue(800)\n",
        "  queue1.from_front()\n",
        "  queue1.from_back()\n",
        "  #queue1.PrintQueue()\n",
        "  \n",
        "\n",
        "\n",
        "\n",
        "\n",
        "\n"
      ],
      "metadata": {
        "colab": {
          "base_uri": "https://localhost:8080/"
        },
        "id": "9yl9EGJu3JJ-",
        "outputId": "cd2a2061-c445-47fb-adb5-ba27cfa6d1cf"
      },
      "execution_count": 101,
      "outputs": [
        {
          "output_type": "stream",
          "name": "stdout",
          "text": [
            "Queue is full\n",
            "5\n",
            "150\n"
          ]
        }
      ]
    },
    {
      "cell_type": "code",
      "source": [
        ""
      ],
      "metadata": {
        "id": "gPj_jS2Z5nc7"
      },
      "execution_count": 82,
      "outputs": []
    },
    {
      "cell_type": "code",
      "source": [
        ""
      ],
      "metadata": {
        "id": "nuWw26Gj923B"
      },
      "execution_count": 86,
      "outputs": []
    },
    {
      "cell_type": "code",
      "source": [
        ""
      ],
      "metadata": {
        "colab": {
          "base_uri": "https://localhost:8080/"
        },
        "id": "Tj8psYXkFBOl",
        "outputId": "f42a6a4f-b7b4-4085-d1da-f0a6624a5655"
      },
      "execution_count": 87,
      "outputs": [
        {
          "output_type": "execute_result",
          "data": {
            "text/plain": [
              "5"
            ]
          },
          "metadata": {},
          "execution_count": 87
        }
      ]
    },
    {
      "cell_type": "code",
      "source": [
        ""
      ],
      "metadata": {
        "id": "qXPlIffSGChu"
      },
      "execution_count": null,
      "outputs": []
    }
  ]
}