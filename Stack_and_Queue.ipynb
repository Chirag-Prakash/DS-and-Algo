{
  "nbformat": 4,
  "nbformat_minor": 0,
  "metadata": {
    "colab": {
      "name": "Stack and Queue.ipynb",
      "provenance": [],
      "collapsed_sections": [],
      "authorship_tag": "ABX9TyOZrz5+gpWdeSassqpEtz7t",
      "include_colab_link": true
    },
    "kernelspec": {
      "name": "python3",
      "display_name": "Python 3"
    },
    "language_info": {
      "name": "python"
    }
  },
  "cells": [
    {
      "cell_type": "markdown",
      "metadata": {
        "id": "view-in-github",
        "colab_type": "text"
      },
      "source": [
        "<a href=\"https://colab.research.google.com/github/Chirag-Prakash/DS-and-Algo/blob/main/Stack_and_Queue.ipynb\" target=\"_parent\"><img src=\"https://colab.research.google.com/assets/colab-badge.svg\" alt=\"Open In Colab\"/></a>"
      ]
    },
    {
      "cell_type": "code",
      "execution_count": 7,
      "metadata": {
        "id": "5oT3spoJvbyF"
      },
      "outputs": [],
      "source": [
        "from collections import deque"
      ]
    },
    {
      "cell_type": "code",
      "source": [
        "stack = deque()"
      ],
      "metadata": {
        "id": "q_9THNL1vpFh"
      },
      "execution_count": 8,
      "outputs": []
    },
    {
      "cell_type": "code",
      "source": [
        "stack.append('a')"
      ],
      "metadata": {
        "id": "PSYLFo1EyEHc"
      },
      "execution_count": 9,
      "outputs": []
    },
    {
      "cell_type": "code",
      "source": [
        "stack.append('b')"
      ],
      "metadata": {
        "id": "dIuNHs_OyGYt"
      },
      "execution_count": 10,
      "outputs": []
    },
    {
      "cell_type": "code",
      "source": [
        "stack.append('c')"
      ],
      "metadata": {
        "id": "UHaMZn4syKVv"
      },
      "execution_count": 11,
      "outputs": []
    },
    {
      "cell_type": "code",
      "source": [
        "stack"
      ],
      "metadata": {
        "colab": {
          "base_uri": "https://localhost:8080/"
        },
        "id": "VhENSg3cyMh3",
        "outputId": "b504a3d7-cb57-4707-cf1a-797293d5fe42"
      },
      "execution_count": 12,
      "outputs": [
        {
          "output_type": "execute_result",
          "data": {
            "text/plain": [
              "deque(['a', 'b', 'c'])"
            ]
          },
          "metadata": {},
          "execution_count": 12
        }
      ]
    },
    {
      "cell_type": "code",
      "source": [
        "print(stack)"
      ],
      "metadata": {
        "colab": {
          "base_uri": "https://localhost:8080/"
        },
        "id": "xUhZt356yNYL",
        "outputId": "d0d64f42-7f73-4bce-c310-a8ce156a06c4"
      },
      "execution_count": 8,
      "outputs": [
        {
          "output_type": "stream",
          "name": "stdout",
          "text": [
            "deque(['a', 'b', 'c'])\n"
          ]
        }
      ]
    },
    {
      "cell_type": "code",
      "source": [
        "stack.pop() == c"
      ],
      "metadata": {
        "colab": {
          "base_uri": "https://localhost:8080/",
          "height": 166
        },
        "id": "euFtyj9eyOtC",
        "outputId": "01de0a7e-a5d2-4990-a404-6a9fcc9ddf7e"
      },
      "execution_count": 25,
      "outputs": [
        {
          "output_type": "error",
          "ename": "NameError",
          "evalue": "ignored",
          "traceback": [
            "\u001b[0;31m---------------------------------------------------------------------------\u001b[0m",
            "\u001b[0;31mNameError\u001b[0m                                 Traceback (most recent call last)",
            "\u001b[0;32m<ipython-input-25-27f50b061f75>\u001b[0m in \u001b[0;36m<module>\u001b[0;34m()\u001b[0m\n\u001b[0;32m----> 1\u001b[0;31m \u001b[0mstack\u001b[0m\u001b[0;34m.\u001b[0m\u001b[0mpop\u001b[0m\u001b[0;34m(\u001b[0m\u001b[0;34m)\u001b[0m \u001b[0;34m==\u001b[0m \u001b[0mc\u001b[0m\u001b[0;34m\u001b[0m\u001b[0;34m\u001b[0m\u001b[0m\n\u001b[0m",
            "\u001b[0;31mNameError\u001b[0m: name 'c' is not defined"
          ]
        }
      ]
    },
    {
      "cell_type": "code",
      "source": [
        "stack_copy = stack.copy()"
      ],
      "metadata": {
        "id": "oJSPvnYPyY97"
      },
      "execution_count": 12,
      "outputs": []
    },
    {
      "cell_type": "code",
      "source": [
        "stack_copy.append('C')"
      ],
      "metadata": {
        "id": "gRg31aDTycyN"
      },
      "execution_count": 14,
      "outputs": []
    },
    {
      "cell_type": "code",
      "source": [
        "stack"
      ],
      "metadata": {
        "colab": {
          "base_uri": "https://localhost:8080/"
        },
        "id": "iOVHxxOhy4tq",
        "outputId": "d019f186-f6d0-469d-9249-b333a243469d"
      },
      "execution_count": 15,
      "outputs": [
        {
          "output_type": "execute_result",
          "data": {
            "text/plain": [
              "deque(['a', 'b'])"
            ]
          },
          "metadata": {},
          "execution_count": 15
        }
      ]
    },
    {
      "cell_type": "code",
      "source": [
        "stack_copy"
      ],
      "metadata": {
        "colab": {
          "base_uri": "https://localhost:8080/"
        },
        "id": "QWD3fosHy72q",
        "outputId": "023f28d1-95f1-4625-f0c9-5391975975ff"
      },
      "execution_count": 16,
      "outputs": [
        {
          "output_type": "execute_result",
          "data": {
            "text/plain": [
              "deque(['a', 'b', 'C'])"
            ]
          },
          "metadata": {},
          "execution_count": 16
        }
      ]
    },
    {
      "cell_type": "code",
      "source": [
        "stack[1]"
      ],
      "metadata": {
        "colab": {
          "base_uri": "https://localhost:8080/",
          "height": 35
        },
        "id": "650cn-vRy9D9",
        "outputId": "26589d69-0955-42a1-e963-27fa79bc105a"
      },
      "execution_count": 18,
      "outputs": [
        {
          "output_type": "execute_result",
          "data": {
            "text/plain": [
              "'b'"
            ],
            "application/vnd.google.colaboratory.intrinsic+json": {
              "type": "string"
            }
          },
          "metadata": {},
          "execution_count": 18
        }
      ]
    },
    {
      "cell_type": "code",
      "source": [
        "41 % 20"
      ],
      "metadata": {
        "colab": {
          "base_uri": "https://localhost:8080/"
        },
        "id": "qjcZzvYX0k9I",
        "outputId": "9d87f662-22bd-4828-94bb-800825e232d2"
      },
      "execution_count": 29,
      "outputs": [
        {
          "output_type": "execute_result",
          "data": {
            "text/plain": [
              "1"
            ]
          },
          "metadata": {},
          "execution_count": 29
        }
      ]
    },
    {
      "cell_type": "code",
      "source": [
        "a=[None]*5"
      ],
      "metadata": {
        "id": "OR0ShGwy17K_"
      },
      "execution_count": 36,
      "outputs": []
    },
    {
      "cell_type": "code",
      "source": [
        "a = 5"
      ],
      "metadata": {
        "id": "A_ZU6kDd2kl0"
      },
      "execution_count": 46,
      "outputs": []
    },
    {
      "cell_type": "code",
      "source": [
        "a[4]=5"
      ],
      "metadata": {
        "id": "-2CZoHxE2bMb"
      },
      "execution_count": 38,
      "outputs": []
    },
    {
      "cell_type": "code",
      "source": [
        "print(\"% s Hello \" % a)"
      ],
      "metadata": {
        "colab": {
          "base_uri": "https://localhost:8080/"
        },
        "id": "8406_jDB2dNq",
        "outputId": "1e7ebe7d-166d-44bb-caa2-ff6709c7aad4"
      },
      "execution_count": 55,
      "outputs": [
        {
          "output_type": "stream",
          "name": "stdout",
          "text": [
            "5 Hello \n"
          ]
        }
      ]
    },
    {
      "cell_type": "code",
      "source": [
        "#####################################################################################\n",
        "#####################################################################################\n",
        "\n",
        "\n",
        "############ QUEUE TEMPLATE #########################################\n",
        "\n",
        "#Making class for queue\n",
        "class queue:\n",
        "\n",
        "  def __init__(self, capacity):\n",
        "\n",
        "    self.front = self.size = 0\n",
        "    self.rear = 0\n",
        "    self.capacity = capacity\n",
        "    self.Q = [None]*capacity\n",
        "\n",
        "  \n",
        "  ## Defining is empty class\n",
        "\n",
        "  def isEmpty(self):\n",
        "    return self.size == 0\n",
        "      \n",
        "  \n",
        "  ## Defining is full class\n",
        "  def isFull(self):\n",
        "    return self.size == self.capacity\n",
        "\n",
        "      \n",
        "  \n",
        "\n",
        "  ## Adding to the queue\n",
        "  def EnQueue(self,val):\n",
        "\n",
        "    #Checking if list is full:\n",
        "    if self.isFull():\n",
        "      print(\"Queue is full\")\n",
        "      return\n",
        "    \n",
        "     \n",
        "    self.Q[self.rear]= val\n",
        "    self.rear = (self.rear +1) #% (self.capacity)\n",
        "    self.size = self.size +1\n",
        "\n",
        "  \n",
        "  # Removing from the queue\n",
        "  def DeQueue(self):\n",
        "\n",
        "    #Check if list is empty\n",
        "    if self.isEmpty():\n",
        "      print(\"Queue is empty\")\n",
        "      return\n",
        "    \n",
        "    self.front = (self.front +1)\n",
        "    self.size =self.size-1\n",
        "\n",
        "  #Check value from the front:\n",
        "  def from_front(self):\n",
        "\n",
        "    #Check if list is empty\n",
        "    if self.isEmpty():\n",
        "      print(\"Queue is empty\")\n",
        "      return\n",
        "    \n",
        "    ## Return value from the front\n",
        "\n",
        "    print(self.Q[self.front])\n",
        "\n",
        "    #Check value from the front:\n",
        "  def from_back(self):\n",
        "\n",
        "    #Check if list is empty\n",
        "    if self.isEmpty():\n",
        "      print(\"Queue is empty\")\n",
        "      return\n",
        "    \n",
        "    ## Return value from the front\n",
        "\n",
        "    print(self.Q[(self.rear)-1])\n",
        "\n",
        "  def PrintQueue(self):\n",
        "    for i in range(len(self.Q)):\n",
        "      print(self.Q[i])\n",
        "\n",
        "  \n",
        "\n",
        "\n",
        "#Calling main function\n",
        "\n",
        "if __name__ == '__main__':\n",
        "\n",
        "  queue1 = queue(5)\n",
        "  queue1.EnQueue(5)\n",
        "  queue1.EnQueue(15)\n",
        "  queue1.EnQueue(80)\n",
        "  queue1.EnQueue(50)\n",
        "  queue1.EnQueue(150)\n",
        "  queue1.EnQueue(800)\n",
        "  queue1.from_front()\n",
        "  queue1.from_back()\n",
        "  #queue1.PrintQueue()\n",
        "  \n",
        "\n",
        "\n",
        "\n",
        "\n",
        "\n"
      ],
      "metadata": {
        "colab": {
          "base_uri": "https://localhost:8080/"
        },
        "id": "9yl9EGJu3JJ-",
        "outputId": "cd2a2061-c445-47fb-adb5-ba27cfa6d1cf"
      },
      "execution_count": 101,
      "outputs": [
        {
          "output_type": "stream",
          "name": "stdout",
          "text": [
            "Queue is full\n",
            "5\n",
            "150\n"
          ]
        }
      ]
    },
    {
      "cell_type": "code",
      "source": [
        ""
      ],
      "metadata": {
        "id": "gPj_jS2Z5nc7"
      },
      "execution_count": 82,
      "outputs": []
    },
    {
      "cell_type": "code",
      "source": [
        ""
      ],
      "metadata": {
        "id": "nuWw26Gj923B"
      },
      "execution_count": 86,
      "outputs": []
    },
    {
      "cell_type": "code",
      "source": [
        ""
      ],
      "metadata": {
        "colab": {
          "base_uri": "https://localhost:8080/"
        },
        "id": "Tj8psYXkFBOl",
        "outputId": "f42a6a4f-b7b4-4085-d1da-f0a6624a5655"
      },
      "execution_count": 87,
      "outputs": [
        {
          "output_type": "execute_result",
          "data": {
            "text/plain": [
              "5"
            ]
          },
          "metadata": {},
          "execution_count": 87
        }
      ]
    },
    {
      "cell_type": "code",
      "source": [
        "#########################################################\n",
        "\n",
        "#########STACK QUESTIONS##################################"
      ],
      "metadata": {
        "id": "qXPlIffSGChu"
      },
      "execution_count": 1,
      "outputs": []
    },
    {
      "cell_type": "code",
      "source": [
        "from collections import deque\n",
        "\n",
        "a = {\n",
        "    \n",
        "  '{' : '}',\n",
        "  '(' : ')',\n",
        "  '[' : ']'\n",
        "}\n",
        "\n",
        "\n",
        "\n",
        "def check_para(input1):\n",
        "  if len(input1) == 0:\n",
        "    print(\"Empty input\")\n",
        "    return\n",
        "  Q = deque()\n",
        "  for i in input1:\n",
        "    if i in ('[','{','('):\n",
        "      Q.append(i)\n",
        "    if i in (']','}',')'):\n",
        "\n",
        "      if len(Q) == 0:\n",
        "        print(\"Have closing symbol but not opening symbol\")\n",
        "        return\n",
        "      \n",
        "      if a[Q.pop()] != str(i):\n",
        "        print(\"Not Matching\")\n",
        "        \n",
        "        \n",
        "        return\n",
        "\n",
        "    \n",
        "  if len(Q) != 0:\n",
        "    print(\"Paras not matching\")\n",
        "    return\n",
        "    \n",
        "  print(\"Matching paras\")\n",
        "  return\n",
        "  \n",
        "\n",
        "if __name__ == '__main__':\n",
        "\n",
        "  check_para('(){([])}')\n",
        "\n"
      ],
      "metadata": {
        "colab": {
          "base_uri": "https://localhost:8080/"
        },
        "id": "nfxJJKrtshDi",
        "outputId": "55ddc79b-5b17-4b1f-d20b-1a78ceccb51c"
      },
      "execution_count": 50,
      "outputs": [
        {
          "output_type": "stream",
          "name": "stdout",
          "text": [
            "Matching paras\n"
          ]
        }
      ]
    },
    {
      "cell_type": "code",
      "source": [
        "def check1(input1):\n",
        "\n",
        "  for i in input1:\n",
        "    if i in ('[','{','('):\n",
        "      print(\"Matching\")\n",
        "      print(i)\n",
        "  \n",
        "if __name__ == '__main__':\n",
        "  check1('{abc}')\n",
        "\n",
        "  "
      ],
      "metadata": {
        "colab": {
          "base_uri": "https://localhost:8080/"
        },
        "id": "pw1_UkYtswZd",
        "outputId": "82f52e11-15d2-4c96-8d86-89d5d39e34e8"
      },
      "execution_count": 23,
      "outputs": [
        {
          "output_type": "stream",
          "name": "stdout",
          "text": [
            "Matching\n",
            "{\n"
          ]
        }
      ]
    },
    {
      "cell_type": "code",
      "source": [
        "a = {\n",
        "    \n",
        "  '{' : '}',\n",
        "  '(' : ')',\n",
        "  '[' : ']'\n",
        "}"
      ],
      "metadata": {
        "id": "E0sqzXlduiTk"
      },
      "execution_count": 29,
      "outputs": []
    },
    {
      "cell_type": "code",
      "source": [
        "a['{']"
      ],
      "metadata": {
        "colab": {
          "base_uri": "https://localhost:8080/",
          "height": 35
        },
        "id": "OWZiC6dRxxQZ",
        "outputId": "835630ed-6681-4a4d-c180-c4afa584f393"
      },
      "execution_count": 31,
      "outputs": [
        {
          "output_type": "execute_result",
          "data": {
            "text/plain": [
              "'}'"
            ],
            "application/vnd.google.colaboratory.intrinsic+json": {
              "type": "string"
            }
          },
          "metadata": {},
          "execution_count": 31
        }
      ]
    },
    {
      "cell_type": "code",
      "source": [
        "\n",
        "############# GETMIN() ####################\n",
        "\n",
        "class getminclass:\n",
        "\n",
        "\n",
        "  def __init__(self):\n",
        "\n",
        "    self.main = []\n",
        "    self.min = []\n",
        "  \n",
        "  def push1(self, val):\n",
        "    \n",
        "    self.main.append(val)\n",
        "    \n",
        "  \n",
        "  def get_val(self):\n",
        "    print(self.main.pop())\n",
        "\n",
        "    #print(self.main[-1])\n",
        "\n",
        "\n",
        "if __name__ == '__main__':\n",
        "\n",
        "  q = getminclass()\n",
        "  q.push1(2)\n",
        "  q.push1(3)\n",
        "  q.get_val()\n"
      ],
      "metadata": {
        "colab": {
          "base_uri": "https://localhost:8080/"
        },
        "id": "kPg2HX5qx6FM",
        "outputId": "6e548aaa-189e-434f-dd0a-3063a3761151"
      },
      "execution_count": 66,
      "outputs": [
        {
          "output_type": "stream",
          "name": "stdout",
          "text": [
            "3\n"
          ]
        }
      ]
    },
    {
      "cell_type": "code",
      "source": [
        ""
      ],
      "metadata": {
        "id": "ht78LWCVBMdC"
      },
      "execution_count": 62,
      "outputs": []
    }
  ]
}