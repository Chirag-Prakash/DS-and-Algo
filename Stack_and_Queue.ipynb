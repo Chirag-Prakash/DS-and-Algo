{
  "nbformat": 4,
  "nbformat_minor": 0,
  "metadata": {
    "colab": {
      "name": "Stack and Queue.ipynb",
      "provenance": [],
      "collapsed_sections": [],
      "authorship_tag": "ABX9TyMomLavSjCxiOV7MheFWgJC"
    },
    "kernelspec": {
      "name": "python3",
      "display_name": "Python 3"
    },
    "language_info": {
      "name": "python"
    }
  },
  "cells": [
    {
      "cell_type": "code",
      "execution_count": 1,
      "metadata": {
        "id": "5oT3spoJvbyF"
      },
      "outputs": [],
      "source": [
        "from collections import deque"
      ]
    },
    {
      "cell_type": "code",
      "source": [
        "stack = deque()"
      ],
      "metadata": {
        "id": "q_9THNL1vpFh"
      },
      "execution_count": 2,
      "outputs": []
    },
    {
      "cell_type": "code",
      "source": [
        "stack.append('a')"
      ],
      "metadata": {
        "id": "PSYLFo1EyEHc"
      },
      "execution_count": 11,
      "outputs": []
    },
    {
      "cell_type": "code",
      "source": [
        "stack.append('b')"
      ],
      "metadata": {
        "id": "dIuNHs_OyGYt"
      },
      "execution_count": 12,
      "outputs": []
    },
    {
      "cell_type": "code",
      "source": [
        "stack.append('c')"
      ],
      "metadata": {
        "id": "UHaMZn4syKVv"
      },
      "execution_count": 13,
      "outputs": []
    },
    {
      "cell_type": "code",
      "source": [
        "stack"
      ],
      "metadata": {
        "colab": {
          "base_uri": "https://localhost:8080/"
        },
        "id": "VhENSg3cyMh3",
        "outputId": "7f312549-ab34-4b87-a853-bf2819485eea"
      },
      "execution_count": 14,
      "outputs": [
        {
          "output_type": "execute_result",
          "data": {
            "text/plain": [
              "deque(['a', 'b', 'c'])"
            ]
          },
          "metadata": {},
          "execution_count": 14
        }
      ]
    },
    {
      "cell_type": "code",
      "source": [
        "print(stack)"
      ],
      "metadata": {
        "colab": {
          "base_uri": "https://localhost:8080/"
        },
        "id": "xUhZt356yNYL",
        "outputId": "d0d64f42-7f73-4bce-c310-a8ce156a06c4"
      },
      "execution_count": null,
      "outputs": [
        {
          "output_type": "stream",
          "name": "stdout",
          "text": [
            "deque(['a', 'b', 'c'])\n"
          ]
        }
      ]
    },
    {
      "cell_type": "code",
      "source": [
        "stack.pop() == 'c'"
      ],
      "metadata": {
        "colab": {
          "base_uri": "https://localhost:8080/"
        },
        "id": "euFtyj9eyOtC",
        "outputId": "f2f89339-d524-4cb3-e89f-48725687d2ca"
      },
      "execution_count": 15,
      "outputs": [
        {
          "output_type": "execute_result",
          "data": {
            "text/plain": [
              "True"
            ]
          },
          "metadata": {},
          "execution_count": 15
        }
      ]
    },
    {
      "cell_type": "code",
      "source": [
        "stack_copy = stack.copy()"
      ],
      "metadata": {
        "id": "oJSPvnYPyY97"
      },
      "execution_count": 16,
      "outputs": []
    },
    {
      "cell_type": "code",
      "source": [
        "stack_copy"
      ],
      "metadata": {
        "colab": {
          "base_uri": "https://localhost:8080/"
        },
        "id": "mK2d3UROSiSf",
        "outputId": "f0d58f99-a531-4445-f25e-e37c0a3cd975"
      },
      "execution_count": 17,
      "outputs": [
        {
          "output_type": "execute_result",
          "data": {
            "text/plain": [
              "deque(['a', 'b'])"
            ]
          },
          "metadata": {},
          "execution_count": 17
        }
      ]
    },
    {
      "cell_type": "code",
      "source": [
        "stack_copy.append('C')"
      ],
      "metadata": {
        "id": "gRg31aDTycyN"
      },
      "execution_count": 18,
      "outputs": []
    },
    {
      "cell_type": "code",
      "source": [
        "stack"
      ],
      "metadata": {
        "colab": {
          "base_uri": "https://localhost:8080/"
        },
        "id": "iOVHxxOhy4tq",
        "outputId": "10e39f3c-5ea3-4e05-9791-594477f8a90d"
      },
      "execution_count": 19,
      "outputs": [
        {
          "output_type": "execute_result",
          "data": {
            "text/plain": [
              "deque(['a', 'b'])"
            ]
          },
          "metadata": {},
          "execution_count": 19
        }
      ]
    },
    {
      "cell_type": "code",
      "source": [
        "stack_copy"
      ],
      "metadata": {
        "colab": {
          "base_uri": "https://localhost:8080/"
        },
        "id": "QWD3fosHy72q",
        "outputId": "7bd55912-3349-4862-ca96-9450c2089abb"
      },
      "execution_count": 20,
      "outputs": [
        {
          "output_type": "execute_result",
          "data": {
            "text/plain": [
              "deque(['a', 'b', 'C'])"
            ]
          },
          "metadata": {},
          "execution_count": 20
        }
      ]
    },
    {
      "cell_type": "code",
      "source": [
        "stack[0]"
      ],
      "metadata": {
        "colab": {
          "base_uri": "https://localhost:8080/",
          "height": 35
        },
        "id": "650cn-vRy9D9",
        "outputId": "ddb83be0-04fb-4d18-ff65-96399ea95609"
      },
      "execution_count": 22,
      "outputs": [
        {
          "output_type": "execute_result",
          "data": {
            "text/plain": [
              "'a'"
            ],
            "application/vnd.google.colaboratory.intrinsic+json": {
              "type": "string"
            }
          },
          "metadata": {},
          "execution_count": 22
        }
      ]
    },
    {
      "cell_type": "code",
      "source": [
        "#### Remainder #####\n",
        "41 % 20"
      ],
      "metadata": {
        "colab": {
          "base_uri": "https://localhost:8080/"
        },
        "id": "qjcZzvYX0k9I",
        "outputId": "5f82cc4b-b8c8-41fc-edd3-36136c86cbbb"
      },
      "execution_count": 24,
      "outputs": [
        {
          "output_type": "execute_result",
          "data": {
            "text/plain": [
              "1"
            ]
          },
          "metadata": {},
          "execution_count": 24
        }
      ]
    },
    {
      "cell_type": "code",
      "source": [
        "# making array of 5 None\n",
        "a=[None]*5"
      ],
      "metadata": {
        "id": "OR0ShGwy17K_"
      },
      "execution_count": 27,
      "outputs": []
    },
    {
      "cell_type": "code",
      "source": [
        "a"
      ],
      "metadata": {
        "id": "A_ZU6kDd2kl0",
        "colab": {
          "base_uri": "https://localhost:8080/"
        },
        "outputId": "b35b45b2-629a-4f8a-ad0b-b61ffa49982b"
      },
      "execution_count": 26,
      "outputs": [
        {
          "output_type": "execute_result",
          "data": {
            "text/plain": [
              "[None, None, None, None, None]"
            ]
          },
          "metadata": {},
          "execution_count": 26
        }
      ]
    },
    {
      "cell_type": "code",
      "source": [
        "a[4]=5"
      ],
      "metadata": {
        "id": "-2CZoHxE2bMb"
      },
      "execution_count": null,
      "outputs": []
    },
    {
      "cell_type": "code",
      "source": [
        "print(\"% s Hello \" % a)"
      ],
      "metadata": {
        "colab": {
          "base_uri": "https://localhost:8080/"
        },
        "id": "8406_jDB2dNq",
        "outputId": "1e7ebe7d-166d-44bb-caa2-ff6709c7aad4"
      },
      "execution_count": null,
      "outputs": [
        {
          "output_type": "stream",
          "name": "stdout",
          "text": [
            "5 Hello \n"
          ]
        }
      ]
    },
    {
      "cell_type": "code",
      "source": [
        "#####################################################################################\n",
        "#####################################################################################\n",
        "\n",
        "\n",
        "############ QUEUE TEMPLATE #########################################\n",
        "\n",
        "#Making class for queue\n",
        "class queue:\n",
        "\n",
        "  def __init__(self, capacity):\n",
        "\n",
        "    self.front = self.size = 0\n",
        "    self.rear = 0\n",
        "    self.capacity = capacity\n",
        "    self.Q = [None]*capacity\n",
        "\n",
        "  \n",
        "  ## Defining is empty class\n",
        "\n",
        "  def isEmpty(self):\n",
        "    return self.size == 0\n",
        "      \n",
        "  \n",
        "  ## Defining is full class\n",
        "  def isFull(self):\n",
        "    return self.size == self.capacity\n",
        "\n",
        "      \n",
        "  \n",
        "\n",
        "  ## Adding to the queue\n",
        "  def EnQueue(self,val):\n",
        "\n",
        "    #Checking if list is full:\n",
        "    if self.isFull():\n",
        "      print(\"Queue is full\")\n",
        "      return\n",
        "    \n",
        "     \n",
        "    self.Q[self.rear]= val\n",
        "    self.rear = (self.rear +1) #% (self.capacity)\n",
        "    self.size = self.size +1\n",
        "\n",
        "  \n",
        "  # Removing from the queue\n",
        "  def DeQueue(self):\n",
        "\n",
        "    #Check if list is empty\n",
        "    if self.isEmpty():\n",
        "      print(\"Queue is empty\")\n",
        "      return\n",
        "    \n",
        "    self.front = (self.front +1)\n",
        "    self.size =self.size-1\n",
        "\n",
        "  #Check value from the front:\n",
        "  def from_front(self):\n",
        "\n",
        "    #Check if list is empty\n",
        "    if self.isEmpty():\n",
        "      print(\"Queue is empty\")\n",
        "      return\n",
        "    \n",
        "    ## Return value from the front\n",
        "\n",
        "    print(self.Q[self.front])\n",
        "\n",
        "    #Check value from the front:\n",
        "  def from_back(self):\n",
        "\n",
        "    #Check if list is empty\n",
        "    if self.isEmpty():\n",
        "      print(\"Queue is empty\")\n",
        "      return\n",
        "    \n",
        "    ## Return value from the front\n",
        "\n",
        "    print(self.Q[(self.rear)-1])\n",
        "\n",
        "  def PrintQueue(self):\n",
        "    for i in range(len(self.Q)):\n",
        "      print(self.Q[i])\n",
        "\n",
        "  \n",
        "\n",
        "\n",
        "#Calling main function\n",
        "\n",
        "if __name__ == '__main__':\n",
        "\n",
        "  queue1 = queue(5)\n",
        "  queue1.EnQueue(5)\n",
        "  queue1.EnQueue(15)\n",
        "  queue1.EnQueue(80)\n",
        "  queue1.EnQueue(50)\n",
        "  queue1.EnQueue(150)\n",
        "  queue1.EnQueue(800)\n",
        "  queue1.from_front()\n",
        "  queue1.from_back()\n",
        "  #queue1.PrintQueue()\n",
        "  \n",
        "\n",
        "\n",
        "\n",
        "\n",
        "\n"
      ],
      "metadata": {
        "colab": {
          "base_uri": "https://localhost:8080/"
        },
        "id": "9yl9EGJu3JJ-",
        "outputId": "cd2a2061-c445-47fb-adb5-ba27cfa6d1cf"
      },
      "execution_count": null,
      "outputs": [
        {
          "output_type": "stream",
          "name": "stdout",
          "text": [
            "Queue is full\n",
            "5\n",
            "150\n"
          ]
        }
      ]
    },
    {
      "cell_type": "code",
      "source": [
        ""
      ],
      "metadata": {
        "id": "gPj_jS2Z5nc7"
      },
      "execution_count": null,
      "outputs": []
    },
    {
      "cell_type": "code",
      "source": [
        ""
      ],
      "metadata": {
        "id": "nuWw26Gj923B"
      },
      "execution_count": null,
      "outputs": []
    },
    {
      "cell_type": "code",
      "source": [
        ""
      ],
      "metadata": {
        "colab": {
          "base_uri": "https://localhost:8080/"
        },
        "id": "Tj8psYXkFBOl",
        "outputId": "f42a6a4f-b7b4-4085-d1da-f0a6624a5655"
      },
      "execution_count": null,
      "outputs": [
        {
          "output_type": "execute_result",
          "data": {
            "text/plain": [
              "5"
            ]
          },
          "metadata": {},
          "execution_count": 87
        }
      ]
    },
    {
      "cell_type": "code",
      "source": [
        "#########################################################\n",
        "\n",
        "#########STACK QUESTIONS##################################"
      ],
      "metadata": {
        "id": "qXPlIffSGChu"
      },
      "execution_count": null,
      "outputs": []
    },
    {
      "cell_type": "code",
      "source": [
        "from collections import deque\n",
        "\n",
        "a = {\n",
        "    \n",
        "  '{' : '}',\n",
        "  '(' : ')',\n",
        "  '[' : ']'\n",
        "}\n",
        "\n",
        "\n",
        "\n",
        "def check_para(input1):\n",
        "  if len(input1) == 0:\n",
        "    print(\"Empty input\")\n",
        "    return\n",
        "  Q = deque()\n",
        "  for i in input1:\n",
        "    if i in ('[','{','('):\n",
        "      Q.append(i)\n",
        "    if i in (']','}',')'):\n",
        "\n",
        "      if len(Q) == 0:\n",
        "        print(\"Have closing symbol but not opening symbol\")\n",
        "        return\n",
        "      \n",
        "      if a[Q.pop()] != str(i):\n",
        "        print(\"Not Matching\")\n",
        "        \n",
        "        \n",
        "        return\n",
        "\n",
        "    \n",
        "  if len(Q) != 0:\n",
        "    print(\"Paras not matching\")\n",
        "    return\n",
        "    \n",
        "  print(\"Matching paras\")\n",
        "  return\n",
        "  \n",
        "\n",
        "if __name__ == '__main__':\n",
        "\n",
        "  check_para('(){([])}')\n",
        "\n"
      ],
      "metadata": {
        "colab": {
          "base_uri": "https://localhost:8080/"
        },
        "id": "nfxJJKrtshDi",
        "outputId": "55ddc79b-5b17-4b1f-d20b-1a78ceccb51c"
      },
      "execution_count": null,
      "outputs": [
        {
          "output_type": "stream",
          "name": "stdout",
          "text": [
            "Matching paras\n"
          ]
        }
      ]
    },
    {
      "cell_type": "code",
      "source": [
        "def check1(input1):\n",
        "\n",
        "  for i in input1:\n",
        "    if i in ('[','{','('):\n",
        "      print(\"Matching\")\n",
        "      print(i)\n",
        "  \n",
        "if __name__ == '__main__':\n",
        "  check1('{abc}')\n",
        "\n",
        "  "
      ],
      "metadata": {
        "colab": {
          "base_uri": "https://localhost:8080/"
        },
        "id": "pw1_UkYtswZd",
        "outputId": "82f52e11-15d2-4c96-8d86-89d5d39e34e8"
      },
      "execution_count": null,
      "outputs": [
        {
          "output_type": "stream",
          "name": "stdout",
          "text": [
            "Matching\n",
            "{\n"
          ]
        }
      ]
    },
    {
      "cell_type": "code",
      "source": [
        "\n",
        "############# GETMIN() ####################\n",
        "\n",
        "class getminclass:\n",
        "\n",
        "\n",
        "  def __init__(self):\n",
        "\n",
        "    self.main = []\n",
        "    self.min = []\n",
        "  \n",
        "  def push1(self, val):\n",
        "    \n",
        "    self.main.append(val)\n",
        "    \n",
        "  \n",
        "  def get_val(self):\n",
        "    print(self.main.pop())\n",
        "\n",
        "    #print(self.main[-1])\n",
        "\n",
        "\n",
        "if __name__ == '__main__':\n",
        "\n",
        "  q = getminclass()\n",
        "  q.push1(2)\n",
        "  q.push1(3)\n",
        "  q.get_val()\n"
      ],
      "metadata": {
        "colab": {
          "base_uri": "https://localhost:8080/"
        },
        "id": "kPg2HX5qx6FM",
        "outputId": "6e548aaa-189e-434f-dd0a-3063a3761151"
      },
      "execution_count": null,
      "outputs": [
        {
          "output_type": "stream",
          "name": "stdout",
          "text": [
            "3\n"
          ]
        }
      ]
    },
    {
      "cell_type": "code",
      "source": [
        "######################### Checking Palindrome with X in middle#################\n",
        "\n",
        "class check_X_palindrome:\n",
        "\n",
        "  def __init__(self):\n",
        "\n",
        "    self.first_half = []\n",
        "  \n",
        "  def get_first_half(self, arr1):\n",
        "\n",
        "    ptr =0\n",
        "\n",
        "    for i in range(len(arr1)):\n",
        "\n",
        "      if arr1[i] == 'X':\n",
        "        ptr =1\n",
        "        continue\n",
        "\n",
        "      if ptr ==0:\n",
        "        self.first_half.append(arr1[i])\n",
        "      \n",
        "      \n",
        "      \n",
        "      else:\n",
        "        if arr1[i] != self.first_half.pop():\n",
        "          print(\"Not Palindrome\")\n",
        "          print(self.first_half)\n",
        "          print(ptr)\n",
        "          return\n",
        "    \n",
        "    print(\"Palindrome\")\n",
        "    print(self.first_half)\n",
        "    print(ptr)\n",
        "\n",
        "\n",
        "if __name__ == '__main__':\n",
        "\n",
        "  a = check_X_palindrome()\n",
        "  a.get_first_half(\"abXba\")\n",
        "\n",
        "\n",
        "\n",
        "      \n",
        "\n"
      ],
      "metadata": {
        "colab": {
          "base_uri": "https://localhost:8080/"
        },
        "id": "EiZqf3YCV5B_",
        "outputId": "21446c5b-bad7-4754-e3d2-406f56c8a5cc"
      },
      "execution_count": 48,
      "outputs": [
        {
          "output_type": "stream",
          "name": "stdout",
          "text": [
            "Palindrome\n",
            "[]\n",
            "1\n"
          ]
        }
      ]
    },
    {
      "cell_type": "code",
      "source": [
        "#### Another way to solve palindrome problem#############\n",
        "######Front and back##############\n",
        "\n",
        "\n",
        "def check_pali_fnb(input2):\n",
        "\n",
        "  n = len(input2)\n",
        "\n",
        "  for i in range(n):\n",
        "    if input2[i]=='X' and i== (n//2):\n",
        "      print(\"matching\")\n",
        "      return \n",
        "\n",
        "    if input2[i] != input2[n-1-i]:\n",
        "      print(\"not matching\")\n",
        "      return\n",
        "\n",
        "if __name__=='__main__':\n",
        "\n",
        "  check_pali_fnb('abXab')\n",
        "      "
      ],
      "metadata": {
        "colab": {
          "base_uri": "https://localhost:8080/"
        },
        "id": "uVk4inMzYeYi",
        "outputId": "309c1d9d-e3ed-4385-b163-702c43f831fd"
      },
      "execution_count": 69,
      "outputs": [
        {
          "output_type": "stream",
          "name": "stdout",
          "text": [
            "not matching\n"
          ]
        }
      ]
    },
    {
      "cell_type": "code",
      "source": [
        ""
      ],
      "metadata": {
        "colab": {
          "base_uri": "https://localhost:8080/"
        },
        "id": "7XEWP7TmiDOY",
        "outputId": "487f164c-6308-4f6b-d9c8-f2279121d17e"
      },
      "execution_count": 63,
      "outputs": [
        {
          "output_type": "execute_result",
          "data": {
            "text/plain": [
              "2"
            ]
          },
          "metadata": {},
          "execution_count": 63
        }
      ]
    },
    {
      "cell_type": "code",
      "source": [
        "############# stack inversion using recursion ########################\n",
        "\n",
        "\n",
        "class stackreversalusingrecursion:\n",
        "\n",
        "  def op()"
      ],
      "metadata": {
        "id": "ht78LWCVBMdC"
      },
      "execution_count": null,
      "outputs": []
    }
  ]
}