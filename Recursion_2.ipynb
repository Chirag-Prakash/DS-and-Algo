{
  "nbformat": 4,
  "nbformat_minor": 0,
  "metadata": {
    "colab": {
      "name": "Recursion 2.ipynb",
      "provenance": [],
      "collapsed_sections": [],
      "authorship_tag": "ABX9TyNMPvxLVHftLChyV57iZXRK"
    },
    "kernelspec": {
      "name": "python3",
      "display_name": "Python 3"
    },
    "language_info": {
      "name": "python"
    }
  },
  "cells": [
    {
      "cell_type": "code",
      "execution_count": null,
      "metadata": {
        "colab": {
          "base_uri": "https://localhost:8080/"
        },
        "id": "Vb0gMOL6Lx6g",
        "outputId": "7db599bb-def2-4e34-8ccf-53e8acfdb39e"
      },
      "outputs": [
        {
          "output_type": "stream",
          "name": "stdout",
          "text": [
            "8\n"
          ]
        }
      ],
      "source": [
        "###### power of number\n",
        "\n",
        "def powerofnum(x,n,i=1):\n",
        "\n",
        "  if i==n:\n",
        "    return x\n",
        "  \n",
        "  return x*powerofnum(x,n,i+1)\n",
        "   \n",
        "\n",
        "if __name__==\"__main__\":\n",
        "  print(powerofnum(2,3))"
      ]
    },
    {
      "cell_type": "code",
      "source": [
        "#### 321 21 1 1 21 321 Try again\n",
        "\n",
        "def pattern(n):\n",
        "\n",
        "  if n ==0:\n",
        "    return\n",
        "  \n",
        "  for i in range(n):\n",
        "    print(n-i, end= ' ')\n",
        "   \n",
        "  print(\"\\n\")\n",
        "  pattern(n-1)\n",
        "  print(\"\\n\")\n",
        "\n",
        "  for i in range (n):\n",
        "    print(n-i, end=\" \")\n",
        "    \n",
        "\n",
        "if __name__==\"__main__\":\n",
        "\n",
        "  pattern(3)"
      ],
      "metadata": {
        "colab": {
          "base_uri": "https://localhost:8080/"
        },
        "id": "OTgnYDgaM01K",
        "outputId": "bb6535e9-3c3e-43ab-ff4c-a08dfc37a1be"
      },
      "execution_count": null,
      "outputs": [
        {
          "output_type": "stream",
          "name": "stdout",
          "text": [
            "3 2 1 \n",
            "\n",
            "2 1 \n",
            "\n",
            "1 \n",
            "\n",
            "\n",
            "\n",
            "1 \n",
            "\n",
            "2 1 \n",
            "\n",
            "3 2 1 "
          ]
        }
      ]
    },
    {
      "cell_type": "code",
      "source": [
        "##### Doing above quesion with double recursion\n",
        "\n",
        "class double_rec:\n",
        "\n",
        "  def print_ser(self, n):\n",
        "    if n == 1:\n",
        "      print(\"1\")\n",
        "      return\n",
        "    \n",
        "    print(n, end=' ')\n",
        "    self.print_ser(n-1)\n",
        "  \n",
        "  def dec_num(self, n):\n",
        "    if n==0:\n",
        "      return\n",
        "    \n",
        "    self.print_ser(n)\n",
        "    print(\"\\n\")\n",
        "    self.dec_num(n-1)\n",
        "    \n",
        "    if n >1:\n",
        "      \n",
        "      self.print_ser(n)\n",
        "      print(\"\\n\")\n",
        "\n",
        "  \n",
        "\n",
        "if __name__==\"__main__\":\n",
        "  a=double_rec()\n",
        "  a.dec_num(3)\n"
      ],
      "metadata": {
        "colab": {
          "base_uri": "https://localhost:8080/"
        },
        "id": "JGQHGVs3roXA",
        "outputId": "d7bd79ae-e86f-4d2f-e69c-aea5c1d91621"
      },
      "execution_count": null,
      "outputs": [
        {
          "output_type": "stream",
          "name": "stdout",
          "text": [
            "3 2 1\n",
            "\n",
            "\n",
            "2 1\n",
            "\n",
            "\n",
            "1\n",
            "\n",
            "\n",
            "2 1\n",
            "\n",
            "\n",
            "3 2 1\n",
            "\n",
            "\n"
          ]
        }
      ]
    },
    {
      "cell_type": "code",
      "source": [
        "## Factorial\n",
        "\n",
        "def fac(n):\n",
        "  if n==1:\n",
        "    return 1\n",
        "  \n",
        "  return n * fac(n-1)\n",
        "\n",
        "if __name__==\"__main__\":\n",
        "  print(fac(5))"
      ],
      "metadata": {
        "colab": {
          "base_uri": "https://localhost:8080/"
        },
        "id": "r-NatazttG-k",
        "outputId": "9465ea02-8da5-408c-f12c-04fcff3afa70"
      },
      "execution_count": null,
      "outputs": [
        {
          "output_type": "stream",
          "name": "stdout",
          "text": [
            "120\n"
          ]
        }
      ]
    },
    {
      "cell_type": "code",
      "source": [
        ""
      ],
      "metadata": {
        "id": "RPQAgz5f3Ua9"
      },
      "execution_count": null,
      "outputs": []
    }
  ]
}