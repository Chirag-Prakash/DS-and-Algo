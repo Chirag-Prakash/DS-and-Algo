{
  "nbformat": 4,
  "nbformat_minor": 0,
  "metadata": {
    "colab": {
      "name": "Recursion 2.ipynb",
      "provenance": [],
      "collapsed_sections": [],
      "authorship_tag": "ABX9TyPsbYY+cOVgmf2/dnGKCII3"
    },
    "kernelspec": {
      "name": "python3",
      "display_name": "Python 3"
    },
    "language_info": {
      "name": "python"
    }
  },
  "cells": [
    {
      "cell_type": "code",
      "execution_count": 4,
      "metadata": {
        "colab": {
          "base_uri": "https://localhost:8080/"
        },
        "id": "Vb0gMOL6Lx6g",
        "outputId": "7db599bb-def2-4e34-8ccf-53e8acfdb39e"
      },
      "outputs": [
        {
          "output_type": "stream",
          "name": "stdout",
          "text": [
            "8\n"
          ]
        }
      ],
      "source": [
        "###### power of number\n",
        "\n",
        "def powerofnum(x,n,i=1):\n",
        "\n",
        "  if i==n:\n",
        "    return x\n",
        "  \n",
        "  return x*powerofnum(x,n,i+1)\n",
        "   \n",
        "\n",
        "if __name__==\"__main__\":\n",
        "  print(powerofnum(2,3))"
      ]
    },
    {
      "cell_type": "code",
      "source": [
        "#### 321 21 1 1 21 321 Try again\n",
        "\n",
        "def pattern(n):\n",
        "\n",
        "  if n ==0:\n",
        "    return\n",
        "  \n",
        "  for i in range(n):\n",
        "    print(n-i, end= ' ')\n",
        "   \n",
        "  print(\"\\n\")\n",
        "  pattern(n-1)\n",
        "  print(\"\\n\")\n",
        "\n",
        "  for i in range (n):\n",
        "    print(n-i, end=\" \")\n",
        "    \n",
        "\n",
        "if __name__==\"__main__\":\n",
        "\n",
        "  pattern(3)"
      ],
      "metadata": {
        "colab": {
          "base_uri": "https://localhost:8080/"
        },
        "id": "OTgnYDgaM01K",
        "outputId": "ffd246f8-71b9-41d1-9096-3cfe94f8711a"
      },
      "execution_count": 6,
      "outputs": [
        {
          "output_type": "stream",
          "name": "stdout",
          "text": [
            "3 2 1 \n",
            "\n",
            "2 1 \n",
            "\n",
            "1 \n",
            "\n",
            "\n",
            "\n",
            "1 \n",
            "\n",
            "2 1 \n",
            "\n",
            "3 2 1 "
          ]
        }
      ]
    },
    {
      "cell_type": "code",
      "source": [
        "##### Doing above quesion with double recursion\n",
        "\n",
        "class double_rec:\n",
        "\n",
        "  def print_ser(self, n):\n",
        "    if n == 1:\n",
        "      print(\"1\")\n",
        "      return\n",
        "    \n",
        "    print(n, end=' ')\n",
        "    self.print_ser(n-1)\n",
        "  \n",
        "  def dec_num(self, n):\n",
        "    if n==0:\n",
        "      return\n",
        "    \n",
        "    self.print_ser(n)\n",
        "    print(\"\\n\")\n",
        "    self.dec_num(n-1)\n",
        "    \n",
        "    if n >1:\n",
        "      \n",
        "      self.print_ser(n)\n",
        "      print(\"\\n\")\n",
        "\n",
        "  \n",
        "\n",
        "if __name__==\"__main__\":\n",
        "  a=double_rec()\n",
        "  a.dec_num(3)\n"
      ],
      "metadata": {
        "colab": {
          "base_uri": "https://localhost:8080/"
        },
        "id": "JGQHGVs3roXA",
        "outputId": "2cf96eb9-94a3-4684-e96f-858fd4cd86e8"
      },
      "execution_count": 23,
      "outputs": [
        {
          "output_type": "stream",
          "name": "stdout",
          "text": [
            "3 2 1\n",
            "\n",
            "\n",
            "2 1\n",
            "\n",
            "\n",
            "1\n",
            "\n",
            "\n",
            "2 1\n",
            "\n",
            "\n",
            "3 2 1\n",
            "\n",
            "\n"
          ]
        }
      ]
    },
    {
      "cell_type": "code",
      "source": [
        ""
      ],
      "metadata": {
        "id": "r-NatazttG-k"
      },
      "execution_count": null,
      "outputs": []
    }
  ]
}